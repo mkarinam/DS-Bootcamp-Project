{
 "cells": [
  {
   "cell_type": "markdown",
   "metadata": {},
   "source": [
    "# Project Data Science"
   ]
  },
  {
   "cell_type": "markdown",
   "metadata": {},
   "source": [
    "### Przewidywanie wzięcia pożyczki.\n",
    "\n"
   ]
  },
  {
   "cell_type": "markdown",
   "metadata": {},
   "source": [
    "\n",
    "### Input variables:\n",
    "\n",
    "- ID - Unique ID (can not be used for predictions)\n",
    "- Gender- Sex\n",
    "- City - Current City\n",
    "- Monthly_Income - Monthly Income in rupees\n",
    "- DOB - Date of Birth\n",
    "- Lead_Creation_Date - Lead Created on date\n",
    "- Loan_Amount_Applied - Loan Amount Requested (INR)\n",
    "- Loan_Tenure_Applied - Loan Tenure Requested (in years)\n",
    "- Existing_EMI - EMI of Existing Loans (INR)\n",
    "- Employer_Name - Employer Name\n",
    "- Salary_Account- Salary account with Bank\n",
    "- Mobile_Verified - Mobile Verified (Y/N)\n",
    "- Var5- Continuous classified variable\n",
    "- Var1- Categorical variable with multiple levels\n",
    "- Loan_Amount_Submitted- Loan Amount Revised and Selected after seeing Eligibility\n",
    "- Loan_Tenure_Submitted- Loan Tenure Revised and Selected after seeing Eligibility (Years)\n",
    "- Interest_Rate- Interest Rate of Submitted Loan Amount\n",
    "- Processing_Fee- Processing Fee of Submitted Loan Amount (INR)\n",
    "- EMI_Loan_Submitted- EMI of Submitted Loan Amount (INR)\n",
    "- Filled_Form- Filled Application form post quote\n",
    "- Device_Type- Device from which application was made (Browser/ Mobile)\n",
    "- Var2- Categorical Variable with multiple Levels\n",
    "- Source- Categorical Variable with multiple Levels\n",
    "- Var4- Categorical Variable with multiple Levels\n",
    "\n",
    "\n",
    "### Outcomes:\n",
    "\n",
    "- LoggedIn- Application Logged (Variable for understanding the problem – cannot be used in prediction)\n",
    "- Disbursed- Loan Disbursed (Target Variable)"
   ]
  },
  {
   "cell_type": "code",
   "execution_count": 1,
   "metadata": {},
   "outputs": [],
   "source": [
    "import pandas as pd\n",
    "\n",
    "from sklearn.model_selection import train_test_split, GridSearchCV\n",
    "from sklearn.metrics import r2_score, mean_squared_error, mean_absolute_error\n",
    "from datetime import datetime\n",
    "\n",
    "\n",
    "import math\n",
    "import matplotlib.pyplot as plt\n",
    "import numpy as np\n",
    "import seaborn as sns\n",
    "import scipy.stats as stats\n",
    "import numpy as np\n",
    "\n",
    "\n",
    "from sklearn.pipeline import Pipeline\n",
    "from sklearn.linear_model import LogisticRegression\n",
    "from sklearn.tree import DecisionTreeClassifier\n",
    "from sklearn.naive_bayes import MultinomialNB\n",
    "from sklearn.preprocessing import MaxAbsScaler\n",
    "from sklearn.preprocessing import MinMaxScaler\n",
    "from sklearn.preprocessing import StandardScaler\n",
    "from sklearn.ensemble import RandomForestClassifier\n",
    "import xgboost as xgb\n",
    "from sklearn.model_selection import GridSearchCV, train_test_split, cross_val_score\n",
    "from sklearn.metrics import roc_auc_score, accuracy_score, f1_score\n"
   ]
  },
  {
   "cell_type": "code",
   "execution_count": 2,
   "metadata": {},
   "outputs": [],
   "source": [
    "data = pd.read_csv('Train.csv',  encoding='iso-8859-1')"
   ]
  },
  {
   "cell_type": "code",
   "execution_count": 3,
   "metadata": {},
   "outputs": [
    {
     "data": {
      "text/plain": [
       "Index(['ID', 'Gender', 'City', 'Monthly_Income', 'DOB', 'Lead_Creation_Date',\n",
       "       'Loan_Amount_Applied', 'Loan_Tenure_Applied', 'Existing_EMI',\n",
       "       'Employer_Name', 'Salary_Account', 'Mobile_Verified', 'Var5', 'Var1',\n",
       "       'Loan_Amount_Submitted', 'Loan_Tenure_Submitted', 'Interest_Rate',\n",
       "       'Processing_Fee', 'EMI_Loan_Submitted', 'Filled_Form', 'Device_Type',\n",
       "       'Var2', 'Source', 'Var4', 'LoggedIn', 'Disbursed'],\n",
       "      dtype='object')"
      ]
     },
     "execution_count": 3,
     "metadata": {},
     "output_type": "execute_result"
    }
   ],
   "source": [
    "data.columns"
   ]
  },
  {
   "cell_type": "code",
   "execution_count": 4,
   "metadata": {},
   "outputs": [],
   "source": [
    "data.drop(\"LoggedIn\", axis=1, inplace=True)"
   ]
  },
  {
   "cell_type": "code",
   "execution_count": 5,
   "metadata": {},
   "outputs": [
    {
     "data": {
      "text/html": [
       "<div>\n",
       "<style scoped>\n",
       "    .dataframe tbody tr th:only-of-type {\n",
       "        vertical-align: middle;\n",
       "    }\n",
       "\n",
       "    .dataframe tbody tr th {\n",
       "        vertical-align: top;\n",
       "    }\n",
       "\n",
       "    .dataframe thead th {\n",
       "        text-align: right;\n",
       "    }\n",
       "</style>\n",
       "<table border=\"1\" class=\"dataframe\">\n",
       "  <thead>\n",
       "    <tr style=\"text-align: right;\">\n",
       "      <th></th>\n",
       "      <th>ID</th>\n",
       "      <th>Gender</th>\n",
       "      <th>City</th>\n",
       "      <th>Monthly_Income</th>\n",
       "      <th>DOB</th>\n",
       "      <th>Lead_Creation_Date</th>\n",
       "      <th>Loan_Amount_Applied</th>\n",
       "      <th>Loan_Tenure_Applied</th>\n",
       "      <th>Existing_EMI</th>\n",
       "      <th>Employer_Name</th>\n",
       "      <th>...</th>\n",
       "      <th>Loan_Tenure_Submitted</th>\n",
       "      <th>Interest_Rate</th>\n",
       "      <th>Processing_Fee</th>\n",
       "      <th>EMI_Loan_Submitted</th>\n",
       "      <th>Filled_Form</th>\n",
       "      <th>Device_Type</th>\n",
       "      <th>Var2</th>\n",
       "      <th>Source</th>\n",
       "      <th>Var4</th>\n",
       "      <th>Disbursed</th>\n",
       "    </tr>\n",
       "  </thead>\n",
       "  <tbody>\n",
       "    <tr>\n",
       "      <th>0</th>\n",
       "      <td>ID000002C20</td>\n",
       "      <td>Female</td>\n",
       "      <td>Delhi</td>\n",
       "      <td>20000</td>\n",
       "      <td>23-May-78</td>\n",
       "      <td>15-May-15</td>\n",
       "      <td>300000.0</td>\n",
       "      <td>5.0</td>\n",
       "      <td>0.0</td>\n",
       "      <td>CYBOSOL</td>\n",
       "      <td>...</td>\n",
       "      <td>NaN</td>\n",
       "      <td>NaN</td>\n",
       "      <td>NaN</td>\n",
       "      <td>NaN</td>\n",
       "      <td>N</td>\n",
       "      <td>Web-browser</td>\n",
       "      <td>G</td>\n",
       "      <td>S122</td>\n",
       "      <td>1</td>\n",
       "      <td>0</td>\n",
       "    </tr>\n",
       "    <tr>\n",
       "      <th>1</th>\n",
       "      <td>ID000004E40</td>\n",
       "      <td>Male</td>\n",
       "      <td>Mumbai</td>\n",
       "      <td>35000</td>\n",
       "      <td>07-Oct-85</td>\n",
       "      <td>04-May-15</td>\n",
       "      <td>200000.0</td>\n",
       "      <td>2.0</td>\n",
       "      <td>0.0</td>\n",
       "      <td>TATA CONSULTANCY SERVICES LTD (TCS)</td>\n",
       "      <td>...</td>\n",
       "      <td>2.0</td>\n",
       "      <td>13.25</td>\n",
       "      <td>NaN</td>\n",
       "      <td>6762.9</td>\n",
       "      <td>N</td>\n",
       "      <td>Web-browser</td>\n",
       "      <td>G</td>\n",
       "      <td>S122</td>\n",
       "      <td>3</td>\n",
       "      <td>0</td>\n",
       "    </tr>\n",
       "    <tr>\n",
       "      <th>2</th>\n",
       "      <td>ID000007H20</td>\n",
       "      <td>Male</td>\n",
       "      <td>Panchkula</td>\n",
       "      <td>22500</td>\n",
       "      <td>10-Oct-81</td>\n",
       "      <td>19-May-15</td>\n",
       "      <td>600000.0</td>\n",
       "      <td>4.0</td>\n",
       "      <td>0.0</td>\n",
       "      <td>ALCHEMIST HOSPITALS LTD</td>\n",
       "      <td>...</td>\n",
       "      <td>4.0</td>\n",
       "      <td>NaN</td>\n",
       "      <td>NaN</td>\n",
       "      <td>NaN</td>\n",
       "      <td>N</td>\n",
       "      <td>Web-browser</td>\n",
       "      <td>B</td>\n",
       "      <td>S143</td>\n",
       "      <td>1</td>\n",
       "      <td>0</td>\n",
       "    </tr>\n",
       "    <tr>\n",
       "      <th>3</th>\n",
       "      <td>ID000008I30</td>\n",
       "      <td>Male</td>\n",
       "      <td>Saharsa</td>\n",
       "      <td>35000</td>\n",
       "      <td>30-Nov-87</td>\n",
       "      <td>09-May-15</td>\n",
       "      <td>1000000.0</td>\n",
       "      <td>5.0</td>\n",
       "      <td>0.0</td>\n",
       "      <td>BIHAR GOVERNMENT</td>\n",
       "      <td>...</td>\n",
       "      <td>5.0</td>\n",
       "      <td>NaN</td>\n",
       "      <td>NaN</td>\n",
       "      <td>NaN</td>\n",
       "      <td>N</td>\n",
       "      <td>Web-browser</td>\n",
       "      <td>B</td>\n",
       "      <td>S143</td>\n",
       "      <td>3</td>\n",
       "      <td>0</td>\n",
       "    </tr>\n",
       "    <tr>\n",
       "      <th>4</th>\n",
       "      <td>ID000009J40</td>\n",
       "      <td>Male</td>\n",
       "      <td>Bengaluru</td>\n",
       "      <td>100000</td>\n",
       "      <td>17-Feb-84</td>\n",
       "      <td>20-May-15</td>\n",
       "      <td>500000.0</td>\n",
       "      <td>2.0</td>\n",
       "      <td>25000.0</td>\n",
       "      <td>GLOBAL EDGE SOFTWARE</td>\n",
       "      <td>...</td>\n",
       "      <td>2.0</td>\n",
       "      <td>NaN</td>\n",
       "      <td>NaN</td>\n",
       "      <td>NaN</td>\n",
       "      <td>N</td>\n",
       "      <td>Web-browser</td>\n",
       "      <td>B</td>\n",
       "      <td>S134</td>\n",
       "      <td>3</td>\n",
       "      <td>0</td>\n",
       "    </tr>\n",
       "  </tbody>\n",
       "</table>\n",
       "<p>5 rows × 25 columns</p>\n",
       "</div>"
      ],
      "text/plain": [
       "            ID  Gender       City  Monthly_Income        DOB  \\\n",
       "0  ID000002C20  Female      Delhi           20000  23-May-78   \n",
       "1  ID000004E40    Male     Mumbai           35000  07-Oct-85   \n",
       "2  ID000007H20    Male  Panchkula           22500  10-Oct-81   \n",
       "3  ID000008I30    Male    Saharsa           35000  30-Nov-87   \n",
       "4  ID000009J40    Male  Bengaluru          100000  17-Feb-84   \n",
       "\n",
       "  Lead_Creation_Date  Loan_Amount_Applied  Loan_Tenure_Applied  Existing_EMI  \\\n",
       "0          15-May-15             300000.0                  5.0           0.0   \n",
       "1          04-May-15             200000.0                  2.0           0.0   \n",
       "2          19-May-15             600000.0                  4.0           0.0   \n",
       "3          09-May-15            1000000.0                  5.0           0.0   \n",
       "4          20-May-15             500000.0                  2.0       25000.0   \n",
       "\n",
       "                         Employer_Name    ...    Loan_Tenure_Submitted  \\\n",
       "0                              CYBOSOL    ...                      NaN   \n",
       "1  TATA CONSULTANCY SERVICES LTD (TCS)    ...                      2.0   \n",
       "2              ALCHEMIST HOSPITALS LTD    ...                      4.0   \n",
       "3                     BIHAR GOVERNMENT    ...                      5.0   \n",
       "4                 GLOBAL EDGE SOFTWARE    ...                      2.0   \n",
       "\n",
       "  Interest_Rate  Processing_Fee EMI_Loan_Submitted  Filled_Form  Device_Type  \\\n",
       "0           NaN             NaN                NaN            N  Web-browser   \n",
       "1         13.25             NaN             6762.9            N  Web-browser   \n",
       "2           NaN             NaN                NaN            N  Web-browser   \n",
       "3           NaN             NaN                NaN            N  Web-browser   \n",
       "4           NaN             NaN                NaN            N  Web-browser   \n",
       "\n",
       "   Var2  Source  Var4 Disbursed  \n",
       "0     G    S122     1         0  \n",
       "1     G    S122     3         0  \n",
       "2     B    S143     1         0  \n",
       "3     B    S143     3         0  \n",
       "4     B    S134     3         0  \n",
       "\n",
       "[5 rows x 25 columns]"
      ]
     },
     "execution_count": 5,
     "metadata": {},
     "output_type": "execute_result"
    }
   ],
   "source": [
    "data.head()"
   ]
  },
  {
   "cell_type": "code",
   "execution_count": 8,
   "metadata": {},
   "outputs": [
    {
     "name": "stdout",
     "output_type": "stream",
     "text": [
      "<class 'pandas.core.frame.DataFrame'>\n",
      "RangeIndex: 87020 entries, 0 to 87019\n",
      "Data columns (total 25 columns):\n",
      "ID                       87020 non-null object\n",
      "Gender                   87020 non-null object\n",
      "City                     86017 non-null object\n",
      "Monthly_Income           87020 non-null int64\n",
      "DOB                      87020 non-null object\n",
      "Lead_Creation_Date       87020 non-null object\n",
      "Loan_Amount_Applied      86949 non-null float64\n",
      "Loan_Tenure_Applied      86949 non-null float64\n",
      "Existing_EMI             86949 non-null float64\n",
      "Employer_Name            86949 non-null object\n",
      "Salary_Account           75256 non-null object\n",
      "Mobile_Verified          87020 non-null object\n",
      "Var5                     87020 non-null int64\n",
      "Var1                     87020 non-null object\n",
      "Loan_Amount_Submitted    52407 non-null float64\n",
      "Loan_Tenure_Submitted    52407 non-null float64\n",
      "Interest_Rate            27726 non-null float64\n",
      "Processing_Fee           27420 non-null float64\n",
      "EMI_Loan_Submitted       27726 non-null float64\n",
      "Filled_Form              87020 non-null object\n",
      "Device_Type              87020 non-null object\n",
      "Var2                     87020 non-null object\n",
      "Source                   87020 non-null object\n",
      "Var4                     87020 non-null int64\n",
      "Disbursed                87020 non-null int64\n",
      "dtypes: float64(8), int64(4), object(13)\n",
      "memory usage: 16.6+ MB\n"
     ]
    }
   ],
   "source": [
    "data.info()"
   ]
  },
  {
   "cell_type": "code",
   "execution_count": 9,
   "metadata": {},
   "outputs": [
    {
     "name": "stdout",
     "output_type": "stream",
     "text": [
      "Null values in column:\n",
      "ID                           0\n",
      "Gender                       0\n",
      "City                      1003\n",
      "Monthly_Income               0\n",
      "DOB                          0\n",
      "Lead_Creation_Date           0\n",
      "Loan_Amount_Applied         71\n",
      "Loan_Tenure_Applied         71\n",
      "Existing_EMI                71\n",
      "Employer_Name               71\n",
      "Salary_Account           11764\n",
      "Mobile_Verified              0\n",
      "Var5                         0\n",
      "Var1                         0\n",
      "Loan_Amount_Submitted    34613\n",
      "Loan_Tenure_Submitted    34613\n",
      "Interest_Rate            59294\n",
      "Processing_Fee           59600\n",
      "EMI_Loan_Submitted       59294\n",
      "Filled_Form                  0\n",
      "Device_Type                  0\n",
      "Var2                         0\n",
      "Source                       0\n",
      "Var4                         0\n",
      "Disbursed                    0\n",
      "dtype: int64\n"
     ]
    }
   ],
   "source": [
    "null_number = data.isnull().sum()\n",
    "print(\"Null values in column:\\n{}\".format(null_number))"
   ]
  },
  {
   "cell_type": "code",
   "execution_count": 10,
   "metadata": {},
   "outputs": [
    {
     "data": {
      "image/png": "[encoded data removed]",
      "text/plain": [
       "<Figure size 1440x2520 with 18 Axes>"
      ]
     },
     "metadata": {
      "needs_background": "light"
     },
     "output_type": "display_data"
    }
   ],
   "source": [
    "plt_list = data[['Gender', 'Monthly_Income', 'Loan_Amount_Applied', 'Loan_Tenure_Applied', 'Existing_EMI',\n",
    "                 'Mobile_Verified', 'Var5', 'Var1',\n",
    "       'Loan_Amount_Submitted', 'Loan_Tenure_Submitted', 'Interest_Rate',\n",
    "       'Processing_Fee', 'EMI_Loan_Submitted', 'Filled_Form', 'Device_Type',\n",
    "       'Var2', 'Source', 'Var4',]]\n",
    "\n",
    "fig=plt.figure(figsize=(20,35))\n",
    "col=4\n",
    "rows=math.ceil(float(plt_list.shape[1])/col)\n",
    "for i, column in enumerate(plt_list.columns):\n",
    "    ax=fig.add_subplot(rows,col, i+1)\n",
    "    ax.set_title(column)\n",
    "    if plt_list.dtypes[column]==np.object:\n",
    "        plt_list[column].value_counts().plot(kind=\"bar\", axes=ax)\n",
    "    else:\n",
    "        plt_list[column].hist(axes=ax)\n",
    "        plt.xticks(rotation=\"vertical\")\n",
    "plt.subplots_adjust(hspace=0.6,wspace=0.6)"
   ]
  },
  {
   "cell_type": "code",
   "execution_count": 69,
   "metadata": {},
   "outputs": [
    {
     "data": {
      "text/html": [
       "<div>\n",
       "<style scoped>\n",
       "    .dataframe tbody tr th:only-of-type {\n",
       "        vertical-align: middle;\n",
       "    }\n",
       "\n",
       "    .dataframe tbody tr th {\n",
       "        vertical-align: top;\n",
       "    }\n",
       "\n",
       "    .dataframe thead th {\n",
       "        text-align: right;\n",
       "    }\n",
       "</style>\n",
       "<table border=\"1\" class=\"dataframe\">\n",
       "  <thead>\n",
       "    <tr style=\"text-align: right;\">\n",
       "      <th></th>\n",
       "      <th>Monthly_Income</th>\n",
       "      <th>Loan_Amount_Applied</th>\n",
       "      <th>Loan_Tenure_Applied</th>\n",
       "      <th>Loan_Amount_Submitted</th>\n",
       "      <th>Loan_Tenure_Submitted</th>\n",
       "    </tr>\n",
       "  </thead>\n",
       "  <tbody>\n",
       "    <tr>\n",
       "      <th>count</th>\n",
       "      <td>8.702000e+04</td>\n",
       "      <td>86949.00</td>\n",
       "      <td>86949.00</td>\n",
       "      <td>52407.00</td>\n",
       "      <td>52407.00</td>\n",
       "    </tr>\n",
       "    <tr>\n",
       "      <th>mean</th>\n",
       "      <td>5.884997e+04</td>\n",
       "      <td>230250.70</td>\n",
       "      <td>2.13</td>\n",
       "      <td>395010.59</td>\n",
       "      <td>3.89</td>\n",
       "    </tr>\n",
       "    <tr>\n",
       "      <th>std</th>\n",
       "      <td>2.177511e+06</td>\n",
       "      <td>354206.76</td>\n",
       "      <td>2.01</td>\n",
       "      <td>308248.14</td>\n",
       "      <td>1.17</td>\n",
       "    </tr>\n",
       "    <tr>\n",
       "      <th>min</th>\n",
       "      <td>0.000000e+00</td>\n",
       "      <td>0.00</td>\n",
       "      <td>0.00</td>\n",
       "      <td>50000.00</td>\n",
       "      <td>1.00</td>\n",
       "    </tr>\n",
       "    <tr>\n",
       "      <th>25%</th>\n",
       "      <td>1.650000e+04</td>\n",
       "      <td>0.00</td>\n",
       "      <td>0.00</td>\n",
       "      <td>200000.00</td>\n",
       "      <td>3.00</td>\n",
       "    </tr>\n",
       "    <tr>\n",
       "      <th>50%</th>\n",
       "      <td>2.500000e+04</td>\n",
       "      <td>100000.00</td>\n",
       "      <td>2.00</td>\n",
       "      <td>300000.00</td>\n",
       "      <td>4.00</td>\n",
       "    </tr>\n",
       "    <tr>\n",
       "      <th>75%</th>\n",
       "      <td>4.000000e+04</td>\n",
       "      <td>300000.00</td>\n",
       "      <td>4.00</td>\n",
       "      <td>500000.00</td>\n",
       "      <td>5.00</td>\n",
       "    </tr>\n",
       "    <tr>\n",
       "      <th>max</th>\n",
       "      <td>4.445544e+08</td>\n",
       "      <td>10000000.00</td>\n",
       "      <td>10.00</td>\n",
       "      <td>3000000.00</td>\n",
       "      <td>6.00</td>\n",
       "    </tr>\n",
       "  </tbody>\n",
       "</table>\n",
       "</div>"
      ],
      "text/plain": [
       "       Monthly_Income  Loan_Amount_Applied  Loan_Tenure_Applied  \\\n",
       "count    8.702000e+04             86949.00             86949.00   \n",
       "mean     5.884997e+04            230250.70                 2.13   \n",
       "std      2.177511e+06            354206.76                 2.01   \n",
       "min      0.000000e+00                 0.00                 0.00   \n",
       "25%      1.650000e+04                 0.00                 0.00   \n",
       "50%      2.500000e+04            100000.00                 2.00   \n",
       "75%      4.000000e+04            300000.00                 4.00   \n",
       "max      4.445544e+08          10000000.00                10.00   \n",
       "\n",
       "       Loan_Amount_Submitted  Loan_Tenure_Submitted  \n",
       "count               52407.00               52407.00  \n",
       "mean               395010.59                   3.89  \n",
       "std                308248.14                   1.17  \n",
       "min                 50000.00                   1.00  \n",
       "25%                200000.00                   3.00  \n",
       "50%                300000.00                   4.00  \n",
       "75%                500000.00                   5.00  \n",
       "max               3000000.00                   6.00  "
      ]
     },
     "execution_count": 69,
     "metadata": {},
     "output_type": "execute_result"
    }
   ],
   "source": [
    "Value_cols = data[['Monthly_Income', 'Loan_Amount_Applied', 'Loan_Tenure_Applied', \n",
    "                   'Loan_Amount_Submitted', 'Loan_Tenure_Submitted']]\n",
    "Value_cols.describe().round(2)"
   ]
  },
  {
   "cell_type": "code",
   "execution_count": null,
   "metadata": {},
   "outputs": [],
   "source": []
  },
  {
   "cell_type": "markdown",
   "metadata": {},
   "source": [
    "### Czyszczenie danych, uzupenianie null'i i transformacja do postaci numerycznej zmiennych tekstowych"
   ]
  },
  {
   "cell_type": "markdown",
   "metadata": {},
   "source": [
    "#### Zmienna DOB, Lead_Creation_Date i utworzenie zmiennej Age (w latach)"
   ]
  },
  {
   "cell_type": "code",
   "execution_count": 12,
   "metadata": {},
   "outputs": [
    {
     "data": {
      "text/html": [
       "<div>\n",
       "<style scoped>\n",
       "    .dataframe tbody tr th:only-of-type {\n",
       "        vertical-align: middle;\n",
       "    }\n",
       "\n",
       "    .dataframe tbody tr th {\n",
       "        vertical-align: top;\n",
       "    }\n",
       "\n",
       "    .dataframe thead th {\n",
       "        text-align: right;\n",
       "    }\n",
       "</style>\n",
       "<table border=\"1\" class=\"dataframe\">\n",
       "  <thead>\n",
       "    <tr style=\"text-align: right;\">\n",
       "      <th></th>\n",
       "      <th>ID</th>\n",
       "      <th>Gender</th>\n",
       "      <th>City</th>\n",
       "      <th>Monthly_Income</th>\n",
       "      <th>DOB</th>\n",
       "      <th>Lead_Creation_Date</th>\n",
       "      <th>Loan_Amount_Applied</th>\n",
       "      <th>Loan_Tenure_Applied</th>\n",
       "      <th>Existing_EMI</th>\n",
       "      <th>Employer_Name</th>\n",
       "      <th>...</th>\n",
       "      <th>Interest_Rate</th>\n",
       "      <th>Processing_Fee</th>\n",
       "      <th>EMI_Loan_Submitted</th>\n",
       "      <th>Filled_Form</th>\n",
       "      <th>Device_Type</th>\n",
       "      <th>Var2</th>\n",
       "      <th>Source</th>\n",
       "      <th>Var4</th>\n",
       "      <th>Disbursed</th>\n",
       "      <th>DOB_2</th>\n",
       "    </tr>\n",
       "  </thead>\n",
       "  <tbody>\n",
       "    <tr>\n",
       "      <th>0</th>\n",
       "      <td>ID000002C20</td>\n",
       "      <td>Female</td>\n",
       "      <td>Delhi</td>\n",
       "      <td>20000</td>\n",
       "      <td>23-May-78</td>\n",
       "      <td>15-May-15</td>\n",
       "      <td>300000.0</td>\n",
       "      <td>5.0</td>\n",
       "      <td>0.0</td>\n",
       "      <td>CYBOSOL</td>\n",
       "      <td>...</td>\n",
       "      <td>NaN</td>\n",
       "      <td>NaN</td>\n",
       "      <td>NaN</td>\n",
       "      <td>N</td>\n",
       "      <td>Web-browser</td>\n",
       "      <td>G</td>\n",
       "      <td>S122</td>\n",
       "      <td>1</td>\n",
       "      <td>0</td>\n",
       "      <td>23-May-1978</td>\n",
       "    </tr>\n",
       "    <tr>\n",
       "      <th>1</th>\n",
       "      <td>ID000004E40</td>\n",
       "      <td>Male</td>\n",
       "      <td>Mumbai</td>\n",
       "      <td>35000</td>\n",
       "      <td>07-Oct-85</td>\n",
       "      <td>04-May-15</td>\n",
       "      <td>200000.0</td>\n",
       "      <td>2.0</td>\n",
       "      <td>0.0</td>\n",
       "      <td>TATA CONSULTANCY SERVICES LTD (TCS)</td>\n",
       "      <td>...</td>\n",
       "      <td>13.25</td>\n",
       "      <td>NaN</td>\n",
       "      <td>6762.9</td>\n",
       "      <td>N</td>\n",
       "      <td>Web-browser</td>\n",
       "      <td>G</td>\n",
       "      <td>S122</td>\n",
       "      <td>3</td>\n",
       "      <td>0</td>\n",
       "      <td>07-Oct-1985</td>\n",
       "    </tr>\n",
       "    <tr>\n",
       "      <th>2</th>\n",
       "      <td>ID000007H20</td>\n",
       "      <td>Male</td>\n",
       "      <td>Panchkula</td>\n",
       "      <td>22500</td>\n",
       "      <td>10-Oct-81</td>\n",
       "      <td>19-May-15</td>\n",
       "      <td>600000.0</td>\n",
       "      <td>4.0</td>\n",
       "      <td>0.0</td>\n",
       "      <td>ALCHEMIST HOSPITALS LTD</td>\n",
       "      <td>...</td>\n",
       "      <td>NaN</td>\n",
       "      <td>NaN</td>\n",
       "      <td>NaN</td>\n",
       "      <td>N</td>\n",
       "      <td>Web-browser</td>\n",
       "      <td>B</td>\n",
       "      <td>S143</td>\n",
       "      <td>1</td>\n",
       "      <td>0</td>\n",
       "      <td>10-Oct-1981</td>\n",
       "    </tr>\n",
       "    <tr>\n",
       "      <th>3</th>\n",
       "      <td>ID000008I30</td>\n",
       "      <td>Male</td>\n",
       "      <td>Saharsa</td>\n",
       "      <td>35000</td>\n",
       "      <td>30-Nov-87</td>\n",
       "      <td>09-May-15</td>\n",
       "      <td>1000000.0</td>\n",
       "      <td>5.0</td>\n",
       "      <td>0.0</td>\n",
       "      <td>BIHAR GOVERNMENT</td>\n",
       "      <td>...</td>\n",
       "      <td>NaN</td>\n",
       "      <td>NaN</td>\n",
       "      <td>NaN</td>\n",
       "      <td>N</td>\n",
       "      <td>Web-browser</td>\n",
       "      <td>B</td>\n",
       "      <td>S143</td>\n",
       "      <td>3</td>\n",
       "      <td>0</td>\n",
       "      <td>30-Nov-1987</td>\n",
       "    </tr>\n",
       "    <tr>\n",
       "      <th>4</th>\n",
       "      <td>ID000009J40</td>\n",
       "      <td>Male</td>\n",
       "      <td>Bengaluru</td>\n",
       "      <td>100000</td>\n",
       "      <td>17-Feb-84</td>\n",
       "      <td>20-May-15</td>\n",
       "      <td>500000.0</td>\n",
       "      <td>2.0</td>\n",
       "      <td>25000.0</td>\n",
       "      <td>GLOBAL EDGE SOFTWARE</td>\n",
       "      <td>...</td>\n",
       "      <td>NaN</td>\n",
       "      <td>NaN</td>\n",
       "      <td>NaN</td>\n",
       "      <td>N</td>\n",
       "      <td>Web-browser</td>\n",
       "      <td>B</td>\n",
       "      <td>S134</td>\n",
       "      <td>3</td>\n",
       "      <td>0</td>\n",
       "      <td>17-Feb-1984</td>\n",
       "    </tr>\n",
       "  </tbody>\n",
       "</table>\n",
       "<p>5 rows × 26 columns</p>\n",
       "</div>"
      ],
      "text/plain": [
       "            ID  Gender       City  Monthly_Income        DOB  \\\n",
       "0  ID000002C20  Female      Delhi           20000  23-May-78   \n",
       "1  ID000004E40    Male     Mumbai           35000  07-Oct-85   \n",
       "2  ID000007H20    Male  Panchkula           22500  10-Oct-81   \n",
       "3  ID000008I30    Male    Saharsa           35000  30-Nov-87   \n",
       "4  ID000009J40    Male  Bengaluru          100000  17-Feb-84   \n",
       "\n",
       "  Lead_Creation_Date  Loan_Amount_Applied  Loan_Tenure_Applied  Existing_EMI  \\\n",
       "0          15-May-15             300000.0                  5.0           0.0   \n",
       "1          04-May-15             200000.0                  2.0           0.0   \n",
       "2          19-May-15             600000.0                  4.0           0.0   \n",
       "3          09-May-15            1000000.0                  5.0           0.0   \n",
       "4          20-May-15             500000.0                  2.0       25000.0   \n",
       "\n",
       "                         Employer_Name     ...      Interest_Rate  \\\n",
       "0                              CYBOSOL     ...                NaN   \n",
       "1  TATA CONSULTANCY SERVICES LTD (TCS)     ...              13.25   \n",
       "2              ALCHEMIST HOSPITALS LTD     ...                NaN   \n",
       "3                     BIHAR GOVERNMENT     ...                NaN   \n",
       "4                 GLOBAL EDGE SOFTWARE     ...                NaN   \n",
       "\n",
       "  Processing_Fee  EMI_Loan_Submitted Filled_Form  Device_Type  Var2  Source  \\\n",
       "0            NaN                 NaN           N  Web-browser     G    S122   \n",
       "1            NaN              6762.9           N  Web-browser     G    S122   \n",
       "2            NaN                 NaN           N  Web-browser     B    S143   \n",
       "3            NaN                 NaN           N  Web-browser     B    S143   \n",
       "4            NaN                 NaN           N  Web-browser     B    S134   \n",
       "\n",
       "   Var4  Disbursed        DOB_2  \n",
       "0     1          0  23-May-1978  \n",
       "1     3          0  07-Oct-1985  \n",
       "2     1          0  10-Oct-1981  \n",
       "3     3          0  30-Nov-1987  \n",
       "4     3          0  17-Feb-1984  \n",
       "\n",
       "[5 rows x 26 columns]"
      ]
     },
     "execution_count": 12,
     "metadata": {},
     "output_type": "execute_result"
    }
   ],
   "source": [
    "# uzupenienie DOB o '19' zapewnia dane z przeszlosci \n",
    "data2 = data.copy()\n",
    "data2['DOB_2'] = ['-'.join([row.split('-')[0],row.split('-')[1],'19' + row.split('-')[2]]) for row in data2['DOB']]\n",
    "data2.head()"
   ]
  },
  {
   "cell_type": "code",
   "execution_count": 13,
   "metadata": {},
   "outputs": [
    {
     "data": {
      "text/html": [
       "<div>\n",
       "<style scoped>\n",
       "    .dataframe tbody tr th:only-of-type {\n",
       "        vertical-align: middle;\n",
       "    }\n",
       "\n",
       "    .dataframe tbody tr th {\n",
       "        vertical-align: top;\n",
       "    }\n",
       "\n",
       "    .dataframe thead th {\n",
       "        text-align: right;\n",
       "    }\n",
       "</style>\n",
       "<table border=\"1\" class=\"dataframe\">\n",
       "  <thead>\n",
       "    <tr style=\"text-align: right;\">\n",
       "      <th></th>\n",
       "      <th>ID</th>\n",
       "      <th>Gender</th>\n",
       "      <th>City</th>\n",
       "      <th>Monthly_Income</th>\n",
       "      <th>DOB</th>\n",
       "      <th>Lead_Creation_Date</th>\n",
       "      <th>Loan_Amount_Applied</th>\n",
       "      <th>Loan_Tenure_Applied</th>\n",
       "      <th>Existing_EMI</th>\n",
       "      <th>Employer_Name</th>\n",
       "      <th>...</th>\n",
       "      <th>EMI_Loan_Submitted</th>\n",
       "      <th>Filled_Form</th>\n",
       "      <th>Device_Type</th>\n",
       "      <th>Var2</th>\n",
       "      <th>Source</th>\n",
       "      <th>Var4</th>\n",
       "      <th>Disbursed</th>\n",
       "      <th>DOB_2</th>\n",
       "      <th>DOB_3</th>\n",
       "      <th>LCD_2</th>\n",
       "    </tr>\n",
       "  </thead>\n",
       "  <tbody>\n",
       "    <tr>\n",
       "      <th>0</th>\n",
       "      <td>ID000002C20</td>\n",
       "      <td>Female</td>\n",
       "      <td>Delhi</td>\n",
       "      <td>20000</td>\n",
       "      <td>23-May-78</td>\n",
       "      <td>15-May-15</td>\n",
       "      <td>300000.0</td>\n",
       "      <td>5.0</td>\n",
       "      <td>0.0</td>\n",
       "      <td>CYBOSOL</td>\n",
       "      <td>...</td>\n",
       "      <td>NaN</td>\n",
       "      <td>N</td>\n",
       "      <td>Web-browser</td>\n",
       "      <td>G</td>\n",
       "      <td>S122</td>\n",
       "      <td>1</td>\n",
       "      <td>0</td>\n",
       "      <td>23-May-1978</td>\n",
       "      <td>1978-05-23</td>\n",
       "      <td>2015-05-15</td>\n",
       "    </tr>\n",
       "    <tr>\n",
       "      <th>1</th>\n",
       "      <td>ID000004E40</td>\n",
       "      <td>Male</td>\n",
       "      <td>Mumbai</td>\n",
       "      <td>35000</td>\n",
       "      <td>07-Oct-85</td>\n",
       "      <td>04-May-15</td>\n",
       "      <td>200000.0</td>\n",
       "      <td>2.0</td>\n",
       "      <td>0.0</td>\n",
       "      <td>TATA CONSULTANCY SERVICES LTD (TCS)</td>\n",
       "      <td>...</td>\n",
       "      <td>6762.9</td>\n",
       "      <td>N</td>\n",
       "      <td>Web-browser</td>\n",
       "      <td>G</td>\n",
       "      <td>S122</td>\n",
       "      <td>3</td>\n",
       "      <td>0</td>\n",
       "      <td>07-Oct-1985</td>\n",
       "      <td>1985-10-07</td>\n",
       "      <td>2015-05-04</td>\n",
       "    </tr>\n",
       "    <tr>\n",
       "      <th>2</th>\n",
       "      <td>ID000007H20</td>\n",
       "      <td>Male</td>\n",
       "      <td>Panchkula</td>\n",
       "      <td>22500</td>\n",
       "      <td>10-Oct-81</td>\n",
       "      <td>19-May-15</td>\n",
       "      <td>600000.0</td>\n",
       "      <td>4.0</td>\n",
       "      <td>0.0</td>\n",
       "      <td>ALCHEMIST HOSPITALS LTD</td>\n",
       "      <td>...</td>\n",
       "      <td>NaN</td>\n",
       "      <td>N</td>\n",
       "      <td>Web-browser</td>\n",
       "      <td>B</td>\n",
       "      <td>S143</td>\n",
       "      <td>1</td>\n",
       "      <td>0</td>\n",
       "      <td>10-Oct-1981</td>\n",
       "      <td>1981-10-10</td>\n",
       "      <td>2015-05-19</td>\n",
       "    </tr>\n",
       "    <tr>\n",
       "      <th>3</th>\n",
       "      <td>ID000008I30</td>\n",
       "      <td>Male</td>\n",
       "      <td>Saharsa</td>\n",
       "      <td>35000</td>\n",
       "      <td>30-Nov-87</td>\n",
       "      <td>09-May-15</td>\n",
       "      <td>1000000.0</td>\n",
       "      <td>5.0</td>\n",
       "      <td>0.0</td>\n",
       "      <td>BIHAR GOVERNMENT</td>\n",
       "      <td>...</td>\n",
       "      <td>NaN</td>\n",
       "      <td>N</td>\n",
       "      <td>Web-browser</td>\n",
       "      <td>B</td>\n",
       "      <td>S143</td>\n",
       "      <td>3</td>\n",
       "      <td>0</td>\n",
       "      <td>30-Nov-1987</td>\n",
       "      <td>1987-11-30</td>\n",
       "      <td>2015-05-09</td>\n",
       "    </tr>\n",
       "    <tr>\n",
       "      <th>4</th>\n",
       "      <td>ID000009J40</td>\n",
       "      <td>Male</td>\n",
       "      <td>Bengaluru</td>\n",
       "      <td>100000</td>\n",
       "      <td>17-Feb-84</td>\n",
       "      <td>20-May-15</td>\n",
       "      <td>500000.0</td>\n",
       "      <td>2.0</td>\n",
       "      <td>25000.0</td>\n",
       "      <td>GLOBAL EDGE SOFTWARE</td>\n",
       "      <td>...</td>\n",
       "      <td>NaN</td>\n",
       "      <td>N</td>\n",
       "      <td>Web-browser</td>\n",
       "      <td>B</td>\n",
       "      <td>S134</td>\n",
       "      <td>3</td>\n",
       "      <td>0</td>\n",
       "      <td>17-Feb-1984</td>\n",
       "      <td>1984-02-17</td>\n",
       "      <td>2015-05-20</td>\n",
       "    </tr>\n",
       "  </tbody>\n",
       "</table>\n",
       "<p>5 rows × 28 columns</p>\n",
       "</div>"
      ],
      "text/plain": [
       "            ID  Gender       City  Monthly_Income        DOB  \\\n",
       "0  ID000002C20  Female      Delhi           20000  23-May-78   \n",
       "1  ID000004E40    Male     Mumbai           35000  07-Oct-85   \n",
       "2  ID000007H20    Male  Panchkula           22500  10-Oct-81   \n",
       "3  ID000008I30    Male    Saharsa           35000  30-Nov-87   \n",
       "4  ID000009J40    Male  Bengaluru          100000  17-Feb-84   \n",
       "\n",
       "  Lead_Creation_Date  Loan_Amount_Applied  Loan_Tenure_Applied  Existing_EMI  \\\n",
       "0          15-May-15             300000.0                  5.0           0.0   \n",
       "1          04-May-15             200000.0                  2.0           0.0   \n",
       "2          19-May-15             600000.0                  4.0           0.0   \n",
       "3          09-May-15            1000000.0                  5.0           0.0   \n",
       "4          20-May-15             500000.0                  2.0       25000.0   \n",
       "\n",
       "                         Employer_Name    ...     EMI_Loan_Submitted  \\\n",
       "0                              CYBOSOL    ...                    NaN   \n",
       "1  TATA CONSULTANCY SERVICES LTD (TCS)    ...                 6762.9   \n",
       "2              ALCHEMIST HOSPITALS LTD    ...                    NaN   \n",
       "3                     BIHAR GOVERNMENT    ...                    NaN   \n",
       "4                 GLOBAL EDGE SOFTWARE    ...                    NaN   \n",
       "\n",
       "  Filled_Form  Device_Type Var2  Source  Var4  Disbursed        DOB_2  \\\n",
       "0           N  Web-browser    G    S122     1          0  23-May-1978   \n",
       "1           N  Web-browser    G    S122     3          0  07-Oct-1985   \n",
       "2           N  Web-browser    B    S143     1          0  10-Oct-1981   \n",
       "3           N  Web-browser    B    S143     3          0  30-Nov-1987   \n",
       "4           N  Web-browser    B    S134     3          0  17-Feb-1984   \n",
       "\n",
       "       DOB_3      LCD_2  \n",
       "0 1978-05-23 2015-05-15  \n",
       "1 1985-10-07 2015-05-04  \n",
       "2 1981-10-10 2015-05-19  \n",
       "3 1987-11-30 2015-05-09  \n",
       "4 1984-02-17 2015-05-20  \n",
       "\n",
       "[5 rows x 28 columns]"
      ]
     },
     "execution_count": 13,
     "metadata": {},
     "output_type": "execute_result"
    }
   ],
   "source": [
    "data2['DOB_3']=pd.to_datetime(data2['DOB_2'])\n",
    "data2['LCD_2']=pd.to_datetime(data2['Lead_Creation_Date'])\n",
    "data2.head()"
   ]
  },
  {
   "cell_type": "code",
   "execution_count": 14,
   "metadata": {},
   "outputs": [
    {
     "data": {
      "text/plain": [
       "0"
      ]
     },
     "execution_count": 14,
     "metadata": {},
     "output_type": "execute_result"
    }
   ],
   "source": [
    "len(data2.loc[(data2['DOB_3'] >= '2000-01-01')])"
   ]
  },
  {
   "cell_type": "code",
   "execution_count": 15,
   "metadata": {},
   "outputs": [
    {
     "data": {
      "text/html": [
       "<div>\n",
       "<style scoped>\n",
       "    .dataframe tbody tr th:only-of-type {\n",
       "        vertical-align: middle;\n",
       "    }\n",
       "\n",
       "    .dataframe tbody tr th {\n",
       "        vertical-align: top;\n",
       "    }\n",
       "\n",
       "    .dataframe thead th {\n",
       "        text-align: right;\n",
       "    }\n",
       "</style>\n",
       "<table border=\"1\" class=\"dataframe\">\n",
       "  <thead>\n",
       "    <tr style=\"text-align: right;\">\n",
       "      <th></th>\n",
       "      <th>ID</th>\n",
       "      <th>Gender</th>\n",
       "      <th>City</th>\n",
       "      <th>Monthly_Income</th>\n",
       "      <th>DOB</th>\n",
       "      <th>Lead_Creation_Date</th>\n",
       "      <th>Loan_Amount_Applied</th>\n",
       "      <th>Loan_Tenure_Applied</th>\n",
       "      <th>Existing_EMI</th>\n",
       "      <th>Employer_Name</th>\n",
       "      <th>...</th>\n",
       "      <th>Filled_Form</th>\n",
       "      <th>Device_Type</th>\n",
       "      <th>Var2</th>\n",
       "      <th>Source</th>\n",
       "      <th>Var4</th>\n",
       "      <th>Disbursed</th>\n",
       "      <th>DOB_2</th>\n",
       "      <th>DOB_3</th>\n",
       "      <th>LCD_2</th>\n",
       "      <th>Age</th>\n",
       "    </tr>\n",
       "  </thead>\n",
       "  <tbody>\n",
       "    <tr>\n",
       "      <th>0</th>\n",
       "      <td>ID000002C20</td>\n",
       "      <td>Female</td>\n",
       "      <td>Delhi</td>\n",
       "      <td>20000</td>\n",
       "      <td>23-May-78</td>\n",
       "      <td>15-May-15</td>\n",
       "      <td>300000.0</td>\n",
       "      <td>5.0</td>\n",
       "      <td>0.0</td>\n",
       "      <td>CYBOSOL</td>\n",
       "      <td>...</td>\n",
       "      <td>N</td>\n",
       "      <td>Web-browser</td>\n",
       "      <td>G</td>\n",
       "      <td>S122</td>\n",
       "      <td>1</td>\n",
       "      <td>0</td>\n",
       "      <td>23-May-1978</td>\n",
       "      <td>1978-05-23</td>\n",
       "      <td>2015-05-15</td>\n",
       "      <td>36.0</td>\n",
       "    </tr>\n",
       "    <tr>\n",
       "      <th>1</th>\n",
       "      <td>ID000004E40</td>\n",
       "      <td>Male</td>\n",
       "      <td>Mumbai</td>\n",
       "      <td>35000</td>\n",
       "      <td>07-Oct-85</td>\n",
       "      <td>04-May-15</td>\n",
       "      <td>200000.0</td>\n",
       "      <td>2.0</td>\n",
       "      <td>0.0</td>\n",
       "      <td>TATA CONSULTANCY SERVICES LTD (TCS)</td>\n",
       "      <td>...</td>\n",
       "      <td>N</td>\n",
       "      <td>Web-browser</td>\n",
       "      <td>G</td>\n",
       "      <td>S122</td>\n",
       "      <td>3</td>\n",
       "      <td>0</td>\n",
       "      <td>07-Oct-1985</td>\n",
       "      <td>1985-10-07</td>\n",
       "      <td>2015-05-04</td>\n",
       "      <td>29.0</td>\n",
       "    </tr>\n",
       "    <tr>\n",
       "      <th>2</th>\n",
       "      <td>ID000007H20</td>\n",
       "      <td>Male</td>\n",
       "      <td>Panchkula</td>\n",
       "      <td>22500</td>\n",
       "      <td>10-Oct-81</td>\n",
       "      <td>19-May-15</td>\n",
       "      <td>600000.0</td>\n",
       "      <td>4.0</td>\n",
       "      <td>0.0</td>\n",
       "      <td>ALCHEMIST HOSPITALS LTD</td>\n",
       "      <td>...</td>\n",
       "      <td>N</td>\n",
       "      <td>Web-browser</td>\n",
       "      <td>B</td>\n",
       "      <td>S143</td>\n",
       "      <td>1</td>\n",
       "      <td>0</td>\n",
       "      <td>10-Oct-1981</td>\n",
       "      <td>1981-10-10</td>\n",
       "      <td>2015-05-19</td>\n",
       "      <td>33.0</td>\n",
       "    </tr>\n",
       "    <tr>\n",
       "      <th>3</th>\n",
       "      <td>ID000008I30</td>\n",
       "      <td>Male</td>\n",
       "      <td>Saharsa</td>\n",
       "      <td>35000</td>\n",
       "      <td>30-Nov-87</td>\n",
       "      <td>09-May-15</td>\n",
       "      <td>1000000.0</td>\n",
       "      <td>5.0</td>\n",
       "      <td>0.0</td>\n",
       "      <td>BIHAR GOVERNMENT</td>\n",
       "      <td>...</td>\n",
       "      <td>N</td>\n",
       "      <td>Web-browser</td>\n",
       "      <td>B</td>\n",
       "      <td>S143</td>\n",
       "      <td>3</td>\n",
       "      <td>0</td>\n",
       "      <td>30-Nov-1987</td>\n",
       "      <td>1987-11-30</td>\n",
       "      <td>2015-05-09</td>\n",
       "      <td>27.0</td>\n",
       "    </tr>\n",
       "    <tr>\n",
       "      <th>4</th>\n",
       "      <td>ID000009J40</td>\n",
       "      <td>Male</td>\n",
       "      <td>Bengaluru</td>\n",
       "      <td>100000</td>\n",
       "      <td>17-Feb-84</td>\n",
       "      <td>20-May-15</td>\n",
       "      <td>500000.0</td>\n",
       "      <td>2.0</td>\n",
       "      <td>25000.0</td>\n",
       "      <td>GLOBAL EDGE SOFTWARE</td>\n",
       "      <td>...</td>\n",
       "      <td>N</td>\n",
       "      <td>Web-browser</td>\n",
       "      <td>B</td>\n",
       "      <td>S134</td>\n",
       "      <td>3</td>\n",
       "      <td>0</td>\n",
       "      <td>17-Feb-1984</td>\n",
       "      <td>1984-02-17</td>\n",
       "      <td>2015-05-20</td>\n",
       "      <td>31.0</td>\n",
       "    </tr>\n",
       "  </tbody>\n",
       "</table>\n",
       "<p>5 rows × 29 columns</p>\n",
       "</div>"
      ],
      "text/plain": [
       "            ID  Gender       City  Monthly_Income        DOB  \\\n",
       "0  ID000002C20  Female      Delhi           20000  23-May-78   \n",
       "1  ID000004E40    Male     Mumbai           35000  07-Oct-85   \n",
       "2  ID000007H20    Male  Panchkula           22500  10-Oct-81   \n",
       "3  ID000008I30    Male    Saharsa           35000  30-Nov-87   \n",
       "4  ID000009J40    Male  Bengaluru          100000  17-Feb-84   \n",
       "\n",
       "  Lead_Creation_Date  Loan_Amount_Applied  Loan_Tenure_Applied  Existing_EMI  \\\n",
       "0          15-May-15             300000.0                  5.0           0.0   \n",
       "1          04-May-15             200000.0                  2.0           0.0   \n",
       "2          19-May-15             600000.0                  4.0           0.0   \n",
       "3          09-May-15            1000000.0                  5.0           0.0   \n",
       "4          20-May-15             500000.0                  2.0       25000.0   \n",
       "\n",
       "                         Employer_Name  ...  Filled_Form  Device_Type  Var2  \\\n",
       "0                              CYBOSOL  ...            N  Web-browser     G   \n",
       "1  TATA CONSULTANCY SERVICES LTD (TCS)  ...            N  Web-browser     G   \n",
       "2              ALCHEMIST HOSPITALS LTD  ...            N  Web-browser     B   \n",
       "3                     BIHAR GOVERNMENT  ...            N  Web-browser     B   \n",
       "4                 GLOBAL EDGE SOFTWARE  ...            N  Web-browser     B   \n",
       "\n",
       "  Source  Var4  Disbursed        DOB_2      DOB_3      LCD_2   Age  \n",
       "0   S122     1          0  23-May-1978 1978-05-23 2015-05-15  36.0  \n",
       "1   S122     3          0  07-Oct-1985 1985-10-07 2015-05-04  29.0  \n",
       "2   S143     1          0  10-Oct-1981 1981-10-10 2015-05-19  33.0  \n",
       "3   S143     3          0  30-Nov-1987 1987-11-30 2015-05-09  27.0  \n",
       "4   S134     3          0  17-Feb-1984 1984-02-17 2015-05-20  31.0  \n",
       "\n",
       "[5 rows x 29 columns]"
      ]
     },
     "execution_count": 15,
     "metadata": {},
     "output_type": "execute_result"
    }
   ],
   "source": [
    "data2['Age'] = (data2['LCD_2'] - data2['DOB_3']).astype('timedelta64[Y]')\n",
    "data2.head()"
   ]
  },
  {
   "cell_type": "markdown",
   "metadata": {},
   "source": [
    "Sprawdzenie dat po transformacji"
   ]
  },
  {
   "cell_type": "code",
   "execution_count": 16,
   "metadata": {},
   "outputs": [
    {
     "name": "stdout",
     "output_type": "stream",
     "text": [
      "\n",
      "MAX DOB_3:   1997-12-25 00:00:00\n",
      "MIN DOB_3:   1915-06-20 00:00:00\n",
      "\n",
      "MAX LCD_2:   2015-07-31 00:00:00\n",
      "MIN LCD_2:   2015-05-01 00:00:00\n",
      "\n",
      "MAX Age:   100.0\n",
      "MIN Age:   17.0\n"
     ]
    }
   ],
   "source": [
    "dates = ['DOB_3', 'LCD_2', 'Age']\n",
    "\n",
    "for col in dates:\n",
    "    print(\"\\nMAX {}\".format(col)+ \":   {}\".format(data2[col].max()))\n",
    "    print(\"MIN {}\".format(col)+ \":   {}\".format(data2[col].min()))\n"
   ]
  },
  {
   "cell_type": "markdown",
   "metadata": {},
   "source": [
    "#### Zmienna Gender"
   ]
  },
  {
   "cell_type": "code",
   "execution_count": 17,
   "metadata": {},
   "outputs": [
    {
     "data": {
      "text/plain": [
       "Male      49848\n",
       "Female    37172\n",
       "Name: Gender, dtype: int64"
      ]
     },
     "execution_count": 17,
     "metadata": {},
     "output_type": "execute_result"
    }
   ],
   "source": [
    "data2['Gender'].value_counts()"
   ]
  },
  {
   "cell_type": "code",
   "execution_count": 18,
   "metadata": {},
   "outputs": [],
   "source": [
    "data2['Gender'] = data2['Gender'].map( {'Female': 0, 'Male': 1} ).astype(int)"
   ]
  },
  {
   "cell_type": "code",
   "execution_count": 19,
   "metadata": {},
   "outputs": [
    {
     "data": {
      "text/plain": [
       "1    49848\n",
       "0    37172\n",
       "Name: Gender, dtype: int64"
      ]
     },
     "execution_count": 19,
     "metadata": {},
     "output_type": "execute_result"
    }
   ],
   "source": [
    "data2['Gender'].value_counts()"
   ]
  },
  {
   "cell_type": "markdown",
   "metadata": {},
   "source": [
    "#### Zmienna Device_type"
   ]
  },
  {
   "cell_type": "code",
   "execution_count": 20,
   "metadata": {},
   "outputs": [
    {
     "data": {
      "text/plain": [
       "Web-browser    64316\n",
       "Mobile         22704\n",
       "Name: Device_Type, dtype: int64"
      ]
     },
     "execution_count": 20,
     "metadata": {},
     "output_type": "execute_result"
    }
   ],
   "source": [
    "data2['Device_Type'].value_counts()"
   ]
  },
  {
   "cell_type": "code",
   "execution_count": 21,
   "metadata": {},
   "outputs": [],
   "source": [
    "data2['Device_Type'] = data2['Device_Type'].map( {'Web-browser': 0, 'Mobile': 1} ).astype(int)"
   ]
  },
  {
   "cell_type": "code",
   "execution_count": 22,
   "metadata": {},
   "outputs": [
    {
     "data": {
      "text/plain": [
       "0    64316\n",
       "1    22704\n",
       "Name: Device_Type, dtype: int64"
      ]
     },
     "execution_count": 22,
     "metadata": {},
     "output_type": "execute_result"
    }
   ],
   "source": [
    "data2['Device_Type'].value_counts()"
   ]
  },
  {
   "cell_type": "markdown",
   "metadata": {},
   "source": [
    "#### Zmienna Mobile_Verified"
   ]
  },
  {
   "cell_type": "code",
   "execution_count": 23,
   "metadata": {},
   "outputs": [
    {
     "data": {
      "text/plain": [
       "Y    56481\n",
       "N    30539\n",
       "Name: Mobile_Verified, dtype: int64"
      ]
     },
     "execution_count": 23,
     "metadata": {},
     "output_type": "execute_result"
    }
   ],
   "source": [
    "data2['Mobile_Verified'].value_counts()"
   ]
  },
  {
   "cell_type": "code",
   "execution_count": 24,
   "metadata": {},
   "outputs": [
    {
     "data": {
      "text/plain": [
       "1    56481\n",
       "0    30539\n",
       "Name: Mobile_Verified, dtype: int64"
      ]
     },
     "execution_count": 24,
     "metadata": {},
     "output_type": "execute_result"
    }
   ],
   "source": [
    "data2['Mobile_Verified'] = data2['Mobile_Verified'].map( {'N': 0, 'Y': 1} ).astype(int)\n",
    "data2['Mobile_Verified'].value_counts()"
   ]
  },
  {
   "cell_type": "markdown",
   "metadata": {},
   "source": [
    "#### Zmienna Filled_form"
   ]
  },
  {
   "cell_type": "code",
   "execution_count": 25,
   "metadata": {},
   "outputs": [
    {
     "data": {
      "text/plain": [
       "N    67530\n",
       "Y    19490\n",
       "Name: Filled_Form, dtype: int64"
      ]
     },
     "execution_count": 25,
     "metadata": {},
     "output_type": "execute_result"
    }
   ],
   "source": [
    "data2['Filled_Form'].value_counts()"
   ]
  },
  {
   "cell_type": "code",
   "execution_count": 26,
   "metadata": {},
   "outputs": [
    {
     "data": {
      "text/plain": [
       "0    67530\n",
       "1    19490\n",
       "Name: Filled_Form, dtype: int64"
      ]
     },
     "execution_count": 26,
     "metadata": {},
     "output_type": "execute_result"
    }
   ],
   "source": [
    "data2['Filled_Form'] = data2['Filled_Form'].map( {'N': 0, 'Y': 1} ).astype(int)\n",
    "data2['Filled_Form'].value_counts()"
   ]
  },
  {
   "cell_type": "markdown",
   "metadata": {},
   "source": [
    "#### Zmienna Employer_name\n"
   ]
  },
  {
   "cell_type": "code",
   "execution_count": 27,
   "metadata": {
    "scrolled": true
   },
   "outputs": [
    {
     "data": {
      "text/plain": [
       "0                                               4914\n",
       "TATA CONSULTANCY SERVICES LTD (TCS)              550\n",
       "COGNIZANT TECHNOLOGY SOLUTIONS INDIA PVT LTD     404\n",
       "ACCENTURE SERVICES PVT LTD                       324\n",
       "GOOGLE                                           301\n",
       "HCL TECHNOLOGIES LTD                             250\n",
       "ICICI BANK LTD                                   239\n",
       "INDIAN AIR FORCE                                 191\n",
       "INFOSYS TECHNOLOGIES                             181\n",
       "GENPACT                                          179\n",
       "IBM CORPORATION                                  173\n",
       "INDIAN ARMY                                      171\n",
       "TYPE SLOWLY FOR AUTO FILL                        162\n",
       "WIPRO TECHNOLOGIES                               155\n",
       "HDFC BANK LTD                                    148\n",
       "IKYA HUMAN CAPITAL SOLUTIONS LTD                 142\n",
       "STATE GOVERNMENT                                 134\n",
       "INDIAN RAILWAY                                   130\n",
       "INDIAN NAVY                                      128\n",
       "ARMY                                             126\n",
       "WIPRO BPO                                        116\n",
       "OTHERS                                           115\n",
       "CONVERGYS INDIA SERVICES PVT LTD                 113\n",
       "TECH MAHINDRA LTD                                113\n",
       "SERCO BPO PVT LTD                                108\n",
       "IBM GLOBAL SERVICES INDIA LTD                    104\n",
       "CONCENTRIX DAKSH SERVICES INDIA PVT LTD           99\n",
       "CAPGEMINI INDIA PVT LTD                           96\n",
       "RANDSTAD INDIA LTD                                96\n",
       "ADECCO INDIA PVT LTD                              95\n",
       "                                                ... \n",
       "MANOJ KUMAR MONDAL                                 1\n",
       "GREENESOL POWER SYSTEMS PVT LTD                    1\n",
       "NETFILLIP TECHNOLOGIES PVT LTD                     1\n",
       "MAYUR SHINDE                                       1\n",
       "TRAVELITE INDIA                                    1\n",
       "VINAYAKA MISSIONS GROUP OF INSTN                   1\n",
       "SUPREME COURT OF INDIA                             1\n",
       "MANEGAR                                            1\n",
       "IMAGEGRAFIX ENGINEERING SERVICES PVT LTD           1\n",
       "ORN TRIPFACTORY PVT LTD                            1\n",
       "DIL JEE SINGH                                      1\n",
       "MODY AUTO INDIA PVT LTD                            1\n",
       "SANJAY SURESH PANSARE                              1\n",
       "BLOOM CRAFT PVT.LTD                                1\n",
       "ROYAL SUNDRAM                                      1\n",
       "NARAYANA EDUCATIONAL SOCIETY                       1\n",
       "KISHORE INTERIORS                                  1\n",
       "NEELESH GIRI                                       1\n",
       "KBINFOSOLUTION                                     1\n",
       "FORD INDIA PRIVATE LIMITED                         1\n",
       "SHREE DURGA SYNTEX PVT. LTD.                       1\n",
       "STIRITI AYUR THERAPIES PVT LTD                     1\n",
       "ANDHRA MEDICAL COLLEGE                             1\n",
       "SARAVANA HOSPITALS                                 1\n",
       "VISHAL ENTERPRISE                                  1\n",
       "SHRI RAM CHITS PVT LTD                             1\n",
       "ARUP MAZUMDA                                       1\n",
       "IACCI                                              1\n",
       "JDSU INDIA PVT LTD                                 1\n",
       "NATIONAL MIDAL DELVLOPMENT CORPORATION LTD         1\n",
       "Name: Employer_Name, Length: 43567, dtype: int64"
      ]
     },
     "execution_count": 27,
     "metadata": {},
     "output_type": "execute_result"
    }
   ],
   "source": [
    "data2['Employer_Name'].value_counts()"
   ]
  },
  {
   "cell_type": "code",
   "execution_count": 28,
   "metadata": {},
   "outputs": [],
   "source": [
    "data2['Employer_Name'].fillna('0',inplace=True)"
   ]
  },
  {
   "cell_type": "code",
   "execution_count": 29,
   "metadata": {},
   "outputs": [
    {
     "data": {
      "text/plain": [
       "False    85862\n",
       "True      1158\n",
       "Name: Employer_Name, dtype: int64"
      ]
     },
     "execution_count": 29,
     "metadata": {},
     "output_type": "execute_result"
    }
   ],
   "source": [
    "data2['Employer_Name'].str.contains('TATA').value_counts()"
   ]
  },
  {
   "cell_type": "code",
   "execution_count": 30,
   "metadata": {},
   "outputs": [
    {
     "data": {
      "text/plain": [
       "False    85964\n",
       "True      1056\n",
       "Name: Employer_Name, dtype: int64"
      ]
     },
     "execution_count": 30,
     "metadata": {},
     "output_type": "execute_result"
    }
   ],
   "source": [
    "data2['Employer_Name'].str.match('TATA').value_counts()"
   ]
  },
  {
   "cell_type": "code",
   "execution_count": 31,
   "metadata": {},
   "outputs": [
    {
     "data": {
      "text/plain": [
       "False    86648\n",
       "True       372\n",
       "Name: Employer_Name, dtype: int64"
      ]
     },
     "execution_count": 31,
     "metadata": {},
     "output_type": "execute_result"
    }
   ],
   "source": [
    "# sprawdzenie dla GOOGLE, IBM , CAPGEMINI, INFOSYS\n",
    "data2['Employer_Name'].str.contains('INFOSYS').value_counts()"
   ]
  },
  {
   "cell_type": "code",
   "execution_count": 32,
   "metadata": {},
   "outputs": [],
   "source": [
    "data2.loc[data2['Employer_Name'].str.contains('TATA'), 'Employer_Name'] = 'TATA CONSULTANCY SERVICES LTD (TCS)'\n",
    "data2.loc[data2['Employer_Name'].str.contains('GOOGLE'), 'Employer_Name'] = 'GOOGLE'\n",
    "data2.loc[data2['Employer_Name'].str.contains('IBM'), 'Employer_Name'] = 'IBM'\n",
    "data2.loc[data2['Employer_Name'].str.contains('CAPGEMINI'), 'Employer_Name'] = 'CAPGEMINI'\n",
    "data2.loc[data2['Employer_Name'].str.contains('INFOSYS'), 'Employer_Name'] = 'INFOSYS'\n"
   ]
  },
  {
   "cell_type": "code",
   "execution_count": 33,
   "metadata": {
    "scrolled": true
   },
   "outputs": [
    {
     "data": {
      "text/plain": [
       "0                                               0.057286\n",
       "TATA CONSULTANCY SERVICES LTD (TCS)             0.013307\n",
       "IBM                                             0.005562\n",
       "COGNIZANT TECHNOLOGY SOLUTIONS INDIA PVT LTD    0.004643\n",
       "INFOSYS                                         0.004275\n",
       "ACCENTURE SERVICES PVT LTD                      0.003723\n",
       "GOOGLE                                          0.003528\n",
       "HCL TECHNOLOGIES LTD                            0.002873\n",
       "ICICI BANK LTD                                  0.002746\n",
       "INDIAN AIR FORCE                                0.002195\n",
       "GENPACT                                         0.002057\n",
       "CAPGEMINI                                       0.001965\n",
       "INDIAN ARMY                                     0.001965\n",
       "TYPE SLOWLY FOR AUTO FILL                       0.001862\n",
       "WIPRO TECHNOLOGIES                              0.001781\n",
       "HDFC BANK LTD                                   0.001701\n",
       "IKYA HUMAN CAPITAL SOLUTIONS LTD                0.001632\n",
       "STATE GOVERNMENT                                0.001540\n",
       "INDIAN RAILWAY                                  0.001494\n",
       "INDIAN NAVY                                     0.001471\n",
       "ARMY                                            0.001448\n",
       "WIPRO BPO                                       0.001333\n",
       "OTHERS                                          0.001322\n",
       "TECH MAHINDRA LTD                               0.001299\n",
       "CONVERGYS INDIA SERVICES PVT LTD                0.001299\n",
       "SERCO BPO PVT LTD                               0.001241\n",
       "CONCENTRIX DAKSH SERVICES INDIA PVT LTD         0.001138\n",
       "RANDSTAD INDIA LTD                              0.001103\n",
       "ADECCO INDIA PVT LTD                            0.001092\n",
       "CIPLA LTD                                       0.001034\n",
       "                                                  ...   \n",
       "JDSU INDIA PVT LTD                              0.000011\n",
       "ANDHRA MEDICAL COLLEGE                          0.000011\n",
       "SANJAY SURESH PANSARE                           0.000011\n",
       "MODY AUTO INDIA PVT LTD                         0.000011\n",
       "SARAVANA HOSPITALS                              0.000011\n",
       "PARTHA BARUI                                    0.000011\n",
       "BUCHI BABU                                      0.000011\n",
       "MANOJ KUMAR MONDAL                              0.000011\n",
       "GREENESOL POWER SYSTEMS PVT LTD                 0.000011\n",
       "NETFILLIP TECHNOLOGIES PVT LTD                  0.000011\n",
       "ADITYA SHARMA                                   0.000011\n",
       "VISHAL ENTERPRISE                               0.000011\n",
       "STIRITI AYUR THERAPIES PVT LTD                  0.000011\n",
       "SHRIKHANDE CONSULTANS PVT. LTD.                 0.000011\n",
       "SANTOSH KAWARE                                  0.000011\n",
       "KARTHEEK                                        0.000011\n",
       "PPG ASIAN PAINTS PVT LTD                        0.000011\n",
       "JC RETAIL INIDA PVT LTD                         0.000011\n",
       "SIDBI                                           0.000011\n",
       "I PASS INDIA PVT LTD                            0.000011\n",
       "INDIRA GANDHI MEDICAL COLLEGE                   0.000011\n",
       "BLOOM CRAFT PVT.LTD                             0.000011\n",
       "ROYAL SUNDRAM                                   0.000011\n",
       "NARAYANA EDUCATIONAL SOCIETY                    0.000011\n",
       "KISHORE INTERIORS                               0.000011\n",
       "NEELESH GIRI                                    0.000011\n",
       "KBINFOSOLUTION                                  0.000011\n",
       "FORD INDIA PRIVATE LIMITED                      0.000011\n",
       "SHREE DURGA SYNTEX PVT. LTD.                    0.000011\n",
       "NATIONAL MIDAL DELVLOPMENT CORPORATION LTD      0.000011\n",
       "Name: Employer_Name, Length: 43303, dtype: float64"
      ]
     },
     "execution_count": 33,
     "metadata": {},
     "output_type": "execute_result"
    }
   ],
   "source": [
    "data2.Employer_Name.value_counts()/data2.shape[0]"
   ]
  },
  {
   "cell_type": "code",
   "execution_count": 34,
   "metadata": {},
   "outputs": [
    {
     "name": "stdout",
     "output_type": "stream",
     "text": [
      "['0', 'TATA CONSULTANCY SERVICES LTD (TCS)', 'IBM', 'COGNIZANT TECHNOLOGY SOLUTIONS INDIA PVT LTD', 'INFOSYS', 'ACCENTURE SERVICES PVT LTD', 'GOOGLE', 'HCL TECHNOLOGIES LTD', 'ICICI BANK LTD', 'INDIAN AIR FORCE', 'GENPACT', 'CAPGEMINI', 'INDIAN ARMY', 'TYPE SLOWLY FOR AUTO FILL', 'WIPRO TECHNOLOGIES', 'HDFC BANK LTD', 'IKYA HUMAN CAPITAL SOLUTIONS LTD', 'STATE GOVERNMENT', 'INDIAN RAILWAY', 'INDIAN NAVY', 'ARMY', 'WIPRO BPO', 'OTHERS', 'TECH MAHINDRA LTD', 'CONVERGYS INDIA SERVICES PVT LTD', 'SERCO BPO PVT LTD']\n"
     ]
    }
   ],
   "source": [
    "empl_list = data2.Employer_Name.value_counts()/data2.shape[0]\n",
    "empl_list2 = list(empl_list[:26].index)\n",
    "print(empl_list2)"
   ]
  },
  {
   "cell_type": "code",
   "execution_count": 35,
   "metadata": {},
   "outputs": [],
   "source": [
    "data2.loc[ ~data2['Employer_Name'].isin(empl_list2), 'Employer_Name'] = 'OTHER'"
   ]
  },
  {
   "cell_type": "code",
   "execution_count": 36,
   "metadata": {},
   "outputs": [],
   "source": [
    "data2.loc[data2['Employer_Name'].isin(['0', 'OTHER', 'OTHERS', 'TYPE SLOWLY FOR AUTO FILL ']), 'Employer_Name'] = 'OTHER'"
   ]
  },
  {
   "cell_type": "code",
   "execution_count": 37,
   "metadata": {},
   "outputs": [
    {
     "data": {
      "text/plain": [
       "OTHER                                           81195\n",
       "TATA CONSULTANCY SERVICES LTD (TCS)              1158\n",
       "IBM                                               484\n",
       "COGNIZANT TECHNOLOGY SOLUTIONS INDIA PVT LTD      404\n",
       "INFOSYS                                           372\n",
       "ACCENTURE SERVICES PVT LTD                        324\n",
       "GOOGLE                                            307\n",
       "HCL TECHNOLOGIES LTD                              250\n",
       "ICICI BANK LTD                                    239\n",
       "INDIAN AIR FORCE                                  191\n",
       "GENPACT                                           179\n",
       "INDIAN ARMY                                       171\n",
       "CAPGEMINI                                         171\n",
       "TYPE SLOWLY FOR AUTO FILL                         162\n",
       "WIPRO TECHNOLOGIES                                155\n",
       "HDFC BANK LTD                                     148\n",
       "IKYA HUMAN CAPITAL SOLUTIONS LTD                  142\n",
       "STATE GOVERNMENT                                  134\n",
       "INDIAN RAILWAY                                    130\n",
       "INDIAN NAVY                                       128\n",
       "ARMY                                              126\n",
       "WIPRO BPO                                         116\n",
       "TECH MAHINDRA LTD                                 113\n",
       "CONVERGYS INDIA SERVICES PVT LTD                  113\n",
       "SERCO BPO PVT LTD                                 108\n",
       "Name: Employer_Name, dtype: int64"
      ]
     },
     "execution_count": 37,
     "metadata": {},
     "output_type": "execute_result"
    }
   ],
   "source": [
    "data2['Employer_Name'].value_counts()"
   ]
  },
  {
   "cell_type": "markdown",
   "metadata": {},
   "source": [
    "#### Zmienna City"
   ]
  },
  {
   "cell_type": "code",
   "execution_count": 38,
   "metadata": {},
   "outputs": [],
   "source": [
    "data2['City'].fillna('OTHER',inplace=True)"
   ]
  },
  {
   "cell_type": "code",
   "execution_count": 39,
   "metadata": {
    "scrolled": true
   },
   "outputs": [],
   "source": [
    "city_list = data2.City.value_counts()/data2.shape[0]\n",
    "city_list2 = list(city_list[:13].index)"
   ]
  },
  {
   "cell_type": "code",
   "execution_count": 40,
   "metadata": {},
   "outputs": [
    {
     "name": "stdout",
     "output_type": "stream",
     "text": [
      "['Delhi', 'Bengaluru', 'Mumbai', 'Hyderabad', 'Chennai', 'Pune', 'Kolkata', 'Ahmedabad', 'Jaipur', 'Gurgaon', 'Coimbatore', 'OTHER', 'Thane']\n"
     ]
    }
   ],
   "source": [
    "print(city_list2)"
   ]
  },
  {
   "cell_type": "code",
   "execution_count": 41,
   "metadata": {},
   "outputs": [],
   "source": [
    "data2.loc[ ~data2['City'].isin(city_list2), 'City'] = 'OTHER'"
   ]
  },
  {
   "cell_type": "code",
   "execution_count": 42,
   "metadata": {},
   "outputs": [
    {
     "data": {
      "text/plain": [
       "OTHER         24208\n",
       "Delhi         12527\n",
       "Bengaluru     10824\n",
       "Mumbai        10795\n",
       "Hyderabad      7272\n",
       "Chennai        6916\n",
       "Pune           5207\n",
       "Kolkata        2888\n",
       "Ahmedabad      1788\n",
       "Jaipur         1331\n",
       "Gurgaon        1212\n",
       "Coimbatore     1147\n",
       "Thane           905\n",
       "Name: City, dtype: int64"
      ]
     },
     "execution_count": 42,
     "metadata": {},
     "output_type": "execute_result"
    }
   ],
   "source": [
    "data2['City'].value_counts()"
   ]
  },
  {
   "cell_type": "code",
   "execution_count": 43,
   "metadata": {},
   "outputs": [
    {
     "name": "stdout",
     "output_type": "stream",
     "text": [
      "Null values in column:\n",
      "ID                           0\n",
      "Gender                       0\n",
      "City                         0\n",
      "Monthly_Income               0\n",
      "DOB                          0\n",
      "Lead_Creation_Date           0\n",
      "Loan_Amount_Applied         71\n",
      "Loan_Tenure_Applied         71\n",
      "Existing_EMI                71\n",
      "Employer_Name                0\n",
      "Salary_Account           11764\n",
      "Mobile_Verified              0\n",
      "Var5                         0\n",
      "Var1                         0\n",
      "Loan_Amount_Submitted    34613\n",
      "Loan_Tenure_Submitted    34613\n",
      "Interest_Rate            59294\n",
      "Processing_Fee           59600\n",
      "EMI_Loan_Submitted       59294\n",
      "Filled_Form                  0\n",
      "Device_Type                  0\n",
      "Var2                         0\n",
      "Source                       0\n",
      "Var4                         0\n",
      "Disbursed                    0\n",
      "DOB_2                        0\n",
      "DOB_3                        0\n",
      "LCD_2                        0\n",
      "Age                          0\n",
      "dtype: int64\n"
     ]
    }
   ],
   "source": [
    "null_number = data2.isnull().sum()\n",
    "print(\"Null values in column:\\n{}\".format(null_number))"
   ]
  },
  {
   "cell_type": "code",
   "execution_count": 44,
   "metadata": {},
   "outputs": [],
   "source": [
    "data2['Salary_Account'].fillna('OTHER',inplace=True)"
   ]
  },
  {
   "cell_type": "code",
   "execution_count": 45,
   "metadata": {
    "scrolled": true
   },
   "outputs": [
    {
     "data": {
      "text/plain": [
       "HDFC Bank                                          0.203344\n",
       "ICICI Bank                                         0.156700\n",
       "State Bank of India                                0.136095\n",
       "OTHER                                              0.135187\n",
       "Axis Bank                                          0.100931\n",
       "Citibank                                           0.027304\n",
       "Kotak Bank                                         0.023753\n",
       "IDBI Bank                                          0.017812\n",
       "Punjab National Bank                               0.013801\n",
       "Bank of India                                      0.013445\n",
       "Bank of Baroda                                     0.012940\n",
       "Standard Chartered Bank                            0.011434\n",
       "Canara Bank                                        0.011377\n",
       "Union Bank of India                                0.010929\n",
       "Yes Bank                                           0.008952\n",
       "ING Vysya                                          0.007791\n",
       "Corporation bank                                   0.007458\n",
       "Indian Overseas Bank                               0.007033\n",
       "State Bank of Hyderabad                            0.006860\n",
       "Indian Bank                                        0.006378\n",
       "Oriental Bank of Commerce                          0.006022\n",
       "IndusInd Bank                                      0.005780\n",
       "Andhra Bank                                        0.005573\n",
       "Central Bank of India                              0.005114\n",
       "Syndicate Bank                                     0.004769\n",
       "Bank of Maharasthra                                0.004666\n",
       "State Bank of Bikaner & Jaipur                     0.003804\n",
       "HSBC                                               0.003769\n",
       "Karur Vysya Bank                                   0.003746\n",
       "State Bank of Mysore                               0.002930\n",
       "Federal Bank                                       0.002907\n",
       "Vijaya Bank                                        0.002896\n",
       "Allahabad Bank                                     0.002735\n",
       "UCO Bank                                           0.002724\n",
       "State Bank of Travancore                           0.002609\n",
       "Karnataka Bank                                     0.002298\n",
       "Saraswat Bank                                      0.002241\n",
       "United Bank of India                               0.002103\n",
       "Dena Bank                                          0.002091\n",
       "State Bank of Patiala                              0.002034\n",
       "South Indian Bank                                  0.001839\n",
       "Deutsche Bank                                      0.001436\n",
       "Abhyuday Co-op Bank Ltd                            0.001241\n",
       "The Ratnakar Bank Ltd                              0.000954\n",
       "Tamil Nadu Mercantile Bank                         0.000816\n",
       "Punjab & Sind bank                                 0.000758\n",
       "J&K Bank                                           0.000678\n",
       "Lakshmi Vilas bank                                 0.000575\n",
       "Dhanalakshmi Bank Ltd                              0.000483\n",
       "State Bank of Indore                               0.000207\n",
       "Catholic Syrian Bank                               0.000161\n",
       "India Bulls                                        0.000126\n",
       "GIC Housing Finance Ltd                            0.000092\n",
       "B N P Paribas                                      0.000092\n",
       "Firstrand Bank Limited                             0.000080\n",
       "Bank of Rajasthan                                  0.000057\n",
       "Kerala Gramin Bank                                 0.000046\n",
       "Industrial And Commercial Bank Of China Limited    0.000023\n",
       "Name: Salary_Account, dtype: float64"
      ]
     },
     "execution_count": 45,
     "metadata": {},
     "output_type": "execute_result"
    }
   ],
   "source": [
    "data2['Salary_Account'].value_counts()/data2.shape[0]"
   ]
  },
  {
   "cell_type": "code",
   "execution_count": 46,
   "metadata": {
    "scrolled": true
   },
   "outputs": [
    {
     "data": {
      "text/plain": [
       "['HDFC Bank',\n",
       " 'ICICI Bank',\n",
       " 'State Bank of India',\n",
       " 'OTHER',\n",
       " 'Axis Bank',\n",
       " 'Citibank',\n",
       " 'Kotak Bank',\n",
       " 'IDBI Bank',\n",
       " 'Punjab National Bank',\n",
       " 'Bank of India',\n",
       " 'Bank of Baroda',\n",
       " 'Standard Chartered Bank',\n",
       " 'Canara Bank',\n",
       " 'Union Bank of India']"
      ]
     },
     "execution_count": 46,
     "metadata": {},
     "output_type": "execute_result"
    }
   ],
   "source": [
    "sa_list = data2['Salary_Account'].value_counts()/data2.shape[0]\n",
    "sa_list2 = list(sa_list[:14].index)\n",
    "sa_list2"
   ]
  },
  {
   "cell_type": "code",
   "execution_count": 47,
   "metadata": {},
   "outputs": [],
   "source": [
    "data2.loc[ ~data2['Salary_Account'].isin(sa_list2), 'Salary_Account'] = 'OTHER'"
   ]
  },
  {
   "cell_type": "code",
   "execution_count": 48,
   "metadata": {},
   "outputs": [
    {
     "data": {
      "text/plain": [
       "OTHER                      0.260136\n",
       "HDFC Bank                  0.203344\n",
       "ICICI Bank                 0.156700\n",
       "State Bank of India        0.136095\n",
       "Axis Bank                  0.100931\n",
       "Citibank                   0.027304\n",
       "Kotak Bank                 0.023753\n",
       "IDBI Bank                  0.017812\n",
       "Punjab National Bank       0.013801\n",
       "Bank of India              0.013445\n",
       "Bank of Baroda             0.012940\n",
       "Standard Chartered Bank    0.011434\n",
       "Canara Bank                0.011377\n",
       "Union Bank of India        0.010929\n",
       "Name: Salary_Account, dtype: float64"
      ]
     },
     "execution_count": 48,
     "metadata": {},
     "output_type": "execute_result"
    }
   ],
   "source": [
    "data2['Salary_Account'].value_counts()/data2.shape[0]"
   ]
  },
  {
   "cell_type": "markdown",
   "metadata": {},
   "source": [
    "#### Zmienna VAR1"
   ]
  },
  {
   "cell_type": "code",
   "execution_count": 49,
   "metadata": {},
   "outputs": [
    {
     "data": {
      "text/plain": [
       "HBXX    0.681384\n",
       "HBXC    0.103539\n",
       "HBXB    0.051471\n",
       "HAXA    0.033429\n",
       "HBXA    0.024397\n",
       "HAXB    0.023110\n",
       "HBXD    0.022570\n",
       "HAXC    0.017651\n",
       "HBXH    0.011147\n",
       "HCXF    0.008297\n",
       "HAYT    0.005838\n",
       "HAVC    0.004413\n",
       "HAXM    0.003080\n",
       "HCXD    0.002724\n",
       "HCYS    0.002494\n",
       "HVYS    0.002137\n",
       "HAZD    0.001253\n",
       "HCXG    0.000896\n",
       "HAXF    0.000172\n",
       "Name: Var1, dtype: float64"
      ]
     },
     "execution_count": 49,
     "metadata": {},
     "output_type": "execute_result"
    }
   ],
   "source": [
    "VAR1_list = data2['Var1'].value_counts()/data2.shape[0]\n",
    "VAR1_list"
   ]
  },
  {
   "cell_type": "code",
   "execution_count": 50,
   "metadata": {},
   "outputs": [],
   "source": [
    "VAR1_list2 = list(VAR1_list[:8].index)"
   ]
  },
  {
   "cell_type": "code",
   "execution_count": 51,
   "metadata": {},
   "outputs": [],
   "source": [
    "data2.loc[ ~data2['Var1'].isin(VAR1_list2), 'Var1'] = 'OTHER'"
   ]
  },
  {
   "cell_type": "code",
   "execution_count": 52,
   "metadata": {},
   "outputs": [
    {
     "data": {
      "text/plain": [
       "HBXX     59294\n",
       "HBXC      9010\n",
       "HBXB      4479\n",
       "OTHER     3694\n",
       "HAXA      2909\n",
       "HBXA      2123\n",
       "HAXB      2011\n",
       "HBXD      1964\n",
       "HAXC      1536\n",
       "Name: Var1, dtype: int64"
      ]
     },
     "execution_count": 52,
     "metadata": {},
     "output_type": "execute_result"
    }
   ],
   "source": [
    "data2['Var1'].value_counts()"
   ]
  },
  {
   "cell_type": "markdown",
   "metadata": {},
   "source": [
    "#### Zmienna VAR2"
   ]
  },
  {
   "cell_type": "code",
   "execution_count": 53,
   "metadata": {},
   "outputs": [
    {
     "data": {
      "text/plain": [
       "B    0.428407\n",
       "G    0.379591\n",
       "C    0.163296\n",
       "E    0.015111\n",
       "D    0.007286\n",
       "F    0.006251\n",
       "A    0.000057\n",
       "Name: Var2, dtype: float64"
      ]
     },
     "execution_count": 53,
     "metadata": {},
     "output_type": "execute_result"
    }
   ],
   "source": [
    "VAR2_list = data2['Var2'].value_counts()/data2.shape[0]\n",
    "VAR2_list"
   ]
  },
  {
   "cell_type": "code",
   "execution_count": 54,
   "metadata": {},
   "outputs": [
    {
     "data": {
      "text/plain": [
       "['B', 'G', 'C']"
      ]
     },
     "execution_count": 54,
     "metadata": {},
     "output_type": "execute_result"
    }
   ],
   "source": [
    "VAR2_list2 = list(VAR2_list[:3].index)\n",
    "VAR2_list2"
   ]
  },
  {
   "cell_type": "code",
   "execution_count": 55,
   "metadata": {},
   "outputs": [],
   "source": [
    "data2.loc[ ~data2['Var2'].isin(VAR2_list2), 'Var2'] = 'OTHER'"
   ]
  },
  {
   "cell_type": "code",
   "execution_count": 56,
   "metadata": {},
   "outputs": [
    {
     "data": {
      "text/plain": [
       "B        37280\n",
       "G        33032\n",
       "C        14210\n",
       "OTHER     2498\n",
       "Name: Var2, dtype: int64"
      ]
     },
     "execution_count": 56,
     "metadata": {},
     "output_type": "execute_result"
    }
   ],
   "source": [
    "data2['Var2'].value_counts()"
   ]
  },
  {
   "cell_type": "markdown",
   "metadata": {},
   "source": [
    "#### Zmienna Source"
   ]
  },
  {
   "cell_type": "code",
   "execution_count": 57,
   "metadata": {
    "scrolled": true
   },
   "outputs": [
    {
     "data": {
      "text/plain": [
       "S122    0.443197\n",
       "S133    0.343427\n",
       "S159    0.064342\n",
       "S143    0.049782\n",
       "S127    0.022190\n",
       "S137    0.019812\n",
       "S134    0.014951\n",
       "S161    0.008837\n",
       "S151    0.008274\n",
       "S157    0.007470\n",
       "S153    0.005677\n",
       "S156    0.003539\n",
       "S144    0.003436\n",
       "S158    0.002390\n",
       "S123    0.000839\n",
       "S141    0.000655\n",
       "S162    0.000414\n",
       "S124    0.000276\n",
       "S160    0.000126\n",
       "S150    0.000115\n",
       "S155    0.000046\n",
       "S139    0.000034\n",
       "S129    0.000034\n",
       "S136    0.000034\n",
       "S138    0.000034\n",
       "S135    0.000023\n",
       "S125    0.000011\n",
       "S154    0.000011\n",
       "S140    0.000011\n",
       "S130    0.000011\n",
       "Name: Source, dtype: float64"
      ]
     },
     "execution_count": 57,
     "metadata": {},
     "output_type": "execute_result"
    }
   ],
   "source": [
    "data2['Source'].value_counts()/data2.shape[0]"
   ]
  },
  {
   "cell_type": "code",
   "execution_count": 58,
   "metadata": {},
   "outputs": [
    {
     "data": {
      "text/plain": [
       "['S122', 'S133', 'S159', 'S143', 'S127', 'S137']"
      ]
     },
     "execution_count": 58,
     "metadata": {},
     "output_type": "execute_result"
    }
   ],
   "source": [
    "Source_list = data2['Source'].value_counts()/data2.shape[0]\n",
    "Source_list2 = list(Source_list[:6].index)\n",
    "Source_list2"
   ]
  },
  {
   "cell_type": "code",
   "execution_count": 59,
   "metadata": {},
   "outputs": [],
   "source": [
    "data2.loc[ ~data2['Source'].isin(Source_list2), 'Source'] = 'OTHER'"
   ]
  },
  {
   "cell_type": "code",
   "execution_count": 60,
   "metadata": {},
   "outputs": [
    {
     "data": {
      "text/plain": [
       "S122     38567\n",
       "S133     29885\n",
       "S159      5599\n",
       "OTHER     4982\n",
       "S143      4332\n",
       "S127      1931\n",
       "S137      1724\n",
       "Name: Source, dtype: int64"
      ]
     },
     "execution_count": 60,
     "metadata": {},
     "output_type": "execute_result"
    }
   ],
   "source": [
    "data2['Source'].value_counts()"
   ]
  },
  {
   "cell_type": "code",
   "execution_count": 61,
   "metadata": {},
   "outputs": [
    {
     "data": {
      "text/plain": [
       "Index(['ID', 'Gender', 'City', 'Monthly_Income', 'DOB', 'Lead_Creation_Date',\n",
       "       'Loan_Amount_Applied', 'Loan_Tenure_Applied', 'Existing_EMI',\n",
       "       'Employer_Name', 'Salary_Account', 'Mobile_Verified', 'Var5', 'Var1',\n",
       "       'Loan_Amount_Submitted', 'Loan_Tenure_Submitted', 'Interest_Rate',\n",
       "       'Processing_Fee', 'EMI_Loan_Submitted', 'Filled_Form', 'Device_Type',\n",
       "       'Var2', 'Source', 'Var4', 'Disbursed', 'DOB_2', 'DOB_3', 'LCD_2',\n",
       "       'Age'],\n",
       "      dtype='object')"
      ]
     },
     "execution_count": 61,
     "metadata": {},
     "output_type": "execute_result"
    }
   ],
   "source": [
    "data2.columns"
   ]
  },
  {
   "cell_type": "markdown",
   "metadata": {},
   "source": [
    "#### Dla zmiennych numerycznych wartosci null wypelniamy:\n",
    "- srednia - dla wartosci w polach 'wnioskowanych'\n",
    "- zerami - dla wartosci w polach 'przyznane' ( dla pol w ktorych wartosci null oznaczaja 'nie dotyczy' czyli pozyczka nie przyznana)"
   ]
  },
  {
   "cell_type": "code",
   "execution_count": 62,
   "metadata": {},
   "outputs": [],
   "source": [
    "list_null_to_mean = ['Loan_Amount_Applied', 'Loan_Tenure_Applied', 'Existing_EMI']\n",
    "\n",
    "for column in list_null_to_mean:\n",
    "    data2[column] = data2[column].fillna(data2[column].mean())"
   ]
  },
  {
   "cell_type": "code",
   "execution_count": 63,
   "metadata": {},
   "outputs": [],
   "source": [
    "list_null_to_zero = ['Loan_Amount_Submitted', 'Loan_Tenure_Submitted', 'EMI_Loan_Submitted', 'Interest_Rate', 'Processing_Fee']\n",
    "\n",
    "for column in list_null_to_zero:\n",
    "    data2[column] = data2[column].fillna(0)"
   ]
  },
  {
   "cell_type": "code",
   "execution_count": 64,
   "metadata": {},
   "outputs": [
    {
     "name": "stdout",
     "output_type": "stream",
     "text": [
      "Number of null values in each column:\n",
      "ID                       0\n",
      "Gender                   0\n",
      "City                     0\n",
      "Monthly_Income           0\n",
      "DOB                      0\n",
      "Lead_Creation_Date       0\n",
      "Loan_Amount_Applied      0\n",
      "Loan_Tenure_Applied      0\n",
      "Existing_EMI             0\n",
      "Employer_Name            0\n",
      "Salary_Account           0\n",
      "Mobile_Verified          0\n",
      "Var5                     0\n",
      "Var1                     0\n",
      "Loan_Amount_Submitted    0\n",
      "Loan_Tenure_Submitted    0\n",
      "Interest_Rate            0\n",
      "Processing_Fee           0\n",
      "EMI_Loan_Submitted       0\n",
      "Filled_Form              0\n",
      "Device_Type              0\n",
      "Var2                     0\n",
      "Source                   0\n",
      "Var4                     0\n",
      "Disbursed                0\n",
      "DOB_2                    0\n",
      "DOB_3                    0\n",
      "LCD_2                    0\n",
      "Age                      0\n",
      "dtype: int64\n"
     ]
    }
   ],
   "source": [
    "null_counts = data2.isnull().sum()\n",
    "print(\"Number of null values in each column:\\n{}\".format(null_counts))\n"
   ]
  },
  {
   "cell_type": "code",
   "execution_count": 65,
   "metadata": {},
   "outputs": [],
   "source": [
    "data2=data2.drop(['ID', 'DOB', 'Lead_Creation_Date','DOB_2', 'DOB_3', 'LCD_2'],axis=1)"
   ]
  },
  {
   "cell_type": "markdown",
   "metadata": {},
   "source": [
    "wizualizacja danych po transformacji"
   ]
  },
  {
   "cell_type": "code",
   "execution_count": 71,
   "metadata": {},
   "outputs": [
    {
     "data": {
      "image/png": "[encoded data removed]",
      "text/plain": [
       "<Figure size 1440x2520 with 18 Axes>"
      ]
     },
     "metadata": {
      "needs_background": "light"
     },
     "output_type": "display_data"
    }
   ],
   "source": [
    "plt_list = data2[['Gender', 'Monthly_Income', 'Loan_Amount_Applied', 'Loan_Tenure_Applied', 'Existing_EMI',\n",
    "                 'Mobile_Verified', 'Var5', 'Var1',\n",
    "       'Loan_Amount_Submitted', 'Loan_Tenure_Submitted', 'Interest_Rate',\n",
    "       'Processing_Fee', 'EMI_Loan_Submitted', 'Filled_Form', 'Device_Type',\n",
    "       'Var2', 'Source', 'Var4',]]\n",
    "\n",
    "fig=plt.figure(figsize=(20,35))\n",
    "col=4\n",
    "rows=math.ceil(float(plt_list.shape[1])/col)\n",
    "for i, column in enumerate(plt_list.columns):\n",
    "    ax=fig.add_subplot(rows,col, i+1)\n",
    "    ax.set_title(column)\n",
    "    if plt_list.dtypes[column]==np.object:\n",
    "        plt_list[column].value_counts().plot(kind=\"bar\", axes=ax)\n",
    "    else:\n",
    "        plt_list[column].hist(axes=ax)\n",
    "        plt.xticks(rotation=\"vertical\")\n",
    "plt.subplots_adjust(hspace=0.6,wspace=0.6)"
   ]
  },
  {
   "cell_type": "markdown",
   "metadata": {},
   "source": [
    "### Modelowanie"
   ]
  },
  {
   "cell_type": "markdown",
   "metadata": {},
   "source": [
    "W modelach zostanie wyznaczony roc_auc jako miara oceny jakości modelu - dla niezbalanowanej probki accuracy score moze dzialac zle.\n",
    "\n",
    "Zostanie rowniez wykorzystana metoda under- i oversamplingu."
   ]
  },
  {
   "cell_type": "code",
   "execution_count": 72,
   "metadata": {},
   "outputs": [],
   "source": [
    "df_model = pd.get_dummies(data2, drop_first=True)"
   ]
  },
  {
   "cell_type": "code",
   "execution_count": 73,
   "metadata": {},
   "outputs": [
    {
     "data": {
      "text/plain": [
       "Index(['Gender', 'Monthly_Income', 'Loan_Amount_Applied',\n",
       "       'Loan_Tenure_Applied', 'Existing_EMI', 'Mobile_Verified', 'Var5',\n",
       "       'Loan_Amount_Submitted', 'Loan_Tenure_Submitted', 'Interest_Rate',\n",
       "       'Processing_Fee', 'EMI_Loan_Submitted', 'Filled_Form', 'Device_Type',\n",
       "       'Var4', 'Disbursed', 'Age', 'City_Bengaluru', 'City_Chennai',\n",
       "       'City_Coimbatore', 'City_Delhi', 'City_Gurgaon', 'City_Hyderabad',\n",
       "       'City_Jaipur', 'City_Kolkata', 'City_Mumbai', 'City_OTHER', 'City_Pune',\n",
       "       'City_Thane', 'Employer_Name_ARMY', 'Employer_Name_CAPGEMINI',\n",
       "       'Employer_Name_COGNIZANT TECHNOLOGY SOLUTIONS INDIA PVT LTD',\n",
       "       'Employer_Name_CONVERGYS INDIA SERVICES PVT LTD',\n",
       "       'Employer_Name_GENPACT', 'Employer_Name_GOOGLE',\n",
       "       'Employer_Name_HCL TECHNOLOGIES LTD', 'Employer_Name_HDFC BANK LTD',\n",
       "       'Employer_Name_IBM', 'Employer_Name_ICICI BANK LTD',\n",
       "       'Employer_Name_IKYA HUMAN CAPITAL SOLUTIONS LTD',\n",
       "       'Employer_Name_INDIAN AIR FORCE', 'Employer_Name_INDIAN ARMY',\n",
       "       'Employer_Name_INDIAN NAVY', 'Employer_Name_INDIAN RAILWAY',\n",
       "       'Employer_Name_INFOSYS', 'Employer_Name_OTHER',\n",
       "       'Employer_Name_SERCO BPO PVT LTD', 'Employer_Name_STATE GOVERNMENT',\n",
       "       'Employer_Name_TATA CONSULTANCY SERVICES LTD (TCS)',\n",
       "       'Employer_Name_TECH MAHINDRA LTD',\n",
       "       'Employer_Name_TYPE SLOWLY FOR AUTO FILL', 'Employer_Name_WIPRO BPO',\n",
       "       'Employer_Name_WIPRO TECHNOLOGIES', 'Salary_Account_Bank of Baroda',\n",
       "       'Salary_Account_Bank of India', 'Salary_Account_Canara Bank',\n",
       "       'Salary_Account_Citibank', 'Salary_Account_HDFC Bank',\n",
       "       'Salary_Account_ICICI Bank', 'Salary_Account_IDBI Bank',\n",
       "       'Salary_Account_Kotak Bank', 'Salary_Account_OTHER',\n",
       "       'Salary_Account_Punjab National Bank',\n",
       "       'Salary_Account_Standard Chartered Bank',\n",
       "       'Salary_Account_State Bank of India',\n",
       "       'Salary_Account_Union Bank of India', 'Var1_HAXB', 'Var1_HAXC',\n",
       "       'Var1_HBXA', 'Var1_HBXB', 'Var1_HBXC', 'Var1_HBXD', 'Var1_HBXX',\n",
       "       'Var1_OTHER', 'Var2_C', 'Var2_G', 'Var2_OTHER', 'Source_S122',\n",
       "       'Source_S127', 'Source_S133', 'Source_S137', 'Source_S143',\n",
       "       'Source_S159'],\n",
       "      dtype='object')"
      ]
     },
     "execution_count": 73,
     "metadata": {},
     "output_type": "execute_result"
    }
   ],
   "source": [
    "df_model.columns"
   ]
  },
  {
   "cell_type": "code",
   "execution_count": 74,
   "metadata": {},
   "outputs": [
    {
     "data": {
      "text/plain": [
       "(87020, 83)"
      ]
     },
     "execution_count": 74,
     "metadata": {},
     "output_type": "execute_result"
    }
   ],
   "source": [
    "df_model.shape"
   ]
  },
  {
   "cell_type": "code",
   "execution_count": 75,
   "metadata": {},
   "outputs": [],
   "source": [
    "X = df_model.drop(['Disbursed'], axis=1)\n",
    "y = df_model['Disbursed']\n",
    "\n",
    "X_train, X_test, y_train, y_test = train_test_split(X, y, test_size=0.3, random_state=42)"
   ]
  },
  {
   "cell_type": "markdown",
   "metadata": {},
   "source": [
    "dane niezbalansowane:"
   ]
  },
  {
   "cell_type": "code",
   "execution_count": 76,
   "metadata": {},
   "outputs": [
    {
     "data": {
      "text/plain": [
       "0    85747\n",
       "1     1273\n",
       "Name: Disbursed, dtype: int64"
      ]
     },
     "execution_count": 76,
     "metadata": {},
     "output_type": "execute_result"
    }
   ],
   "source": [
    "df_model.Disbursed.value_counts()"
   ]
  },
  {
   "cell_type": "code",
   "execution_count": 77,
   "metadata": {},
   "outputs": [
    {
     "name": "stderr",
     "output_type": "stream",
     "text": [
      "/home/kodolamacz/anaconda3/lib/python3.7/site-packages/sklearn/preprocessing/data.py:645: DataConversionWarning: Data with input dtype uint8, int64, float64 were all converted to float64 by StandardScaler.\n",
      "  return self.partial_fit(X, y)\n",
      "/home/kodolamacz/anaconda3/lib/python3.7/site-packages/sklearn/base.py:467: DataConversionWarning: Data with input dtype uint8, int64, float64 were all converted to float64 by StandardScaler.\n",
      "  return self.fit(X, y, **fit_params).transform(X)\n",
      "/home/kodolamacz/anaconda3/lib/python3.7/site-packages/sklearn/linear_model/logistic.py:433: FutureWarning: Default solver will be changed to 'lbfgs' in 0.22. Specify a solver to silence this warning.\n",
      "  FutureWarning)\n",
      "/home/kodolamacz/anaconda3/lib/python3.7/site-packages/sklearn/svm/base.py:931: ConvergenceWarning: Liblinear failed to converge, increase the number of iterations.\n",
      "  \"the number of iterations.\", ConvergenceWarning)\n",
      "/home/kodolamacz/anaconda3/lib/python3.7/site-packages/sklearn/pipeline.py:331: DataConversionWarning: Data with input dtype uint8, int64, float64 were all converted to float64 by StandardScaler.\n",
      "  Xt = transform.transform(Xt)\n",
      "/home/kodolamacz/anaconda3/lib/python3.7/site-packages/sklearn/pipeline.py:331: DataConversionWarning: Data with input dtype uint8, int64, float64 were all converted to float64 by StandardScaler.\n",
      "  Xt = transform.transform(Xt)\n",
      "/home/kodolamacz/anaconda3/lib/python3.7/site-packages/sklearn/pipeline.py:331: DataConversionWarning: Data with input dtype uint8, int64, float64 were all converted to float64 by StandardScaler.\n",
      "  Xt = transform.transform(Xt)\n"
     ]
    },
    {
     "name": "stdout",
     "output_type": "stream",
     "text": [
      "Accuracy_test: 0.984869378686892\n",
      "ROC_AUC_test: 0.49998055382700685\n",
      "F1_score_test 0.0\n"
     ]
    }
   ],
   "source": [
    "pipe = Pipeline([(\"scaler\",StandardScaler()),(\"model\",LogisticRegression( penalty = 'l1', random_state = 42))])\n",
    "pipe.fit(X_train, y_train)\n",
    "print('Accuracy_test:', accuracy_score(y_test,pipe.predict(X_test)))\n",
    "print('ROC_AUC_test:', roc_auc_score(y_test,pipe.predict(X_test)))\n",
    "print('F1_score_test', f1_score(y_test,pipe.predict(X_test)))"
   ]
  },
  {
   "cell_type": "code",
   "execution_count": 78,
   "metadata": {},
   "outputs": [
    {
     "name": "stderr",
     "output_type": "stream",
     "text": [
      "/home/kodolamacz/anaconda3/lib/python3.7/site-packages/sklearn/pipeline.py:331: DataConversionWarning: Data with input dtype uint8, int64, float64 were all converted to float64 by StandardScaler.\n",
      "  Xt = transform.transform(Xt)\n"
     ]
    }
   ],
   "source": [
    "disbursed_pred = pipe.predict(X_test)"
   ]
  },
  {
   "cell_type": "code",
   "execution_count": 79,
   "metadata": {},
   "outputs": [
    {
     "data": {
      "text/plain": [
       "(array([0, 1]), array([26105,     1]))"
      ]
     },
     "execution_count": 79,
     "metadata": {},
     "output_type": "execute_result"
    }
   ],
   "source": [
    "np.unique(disbursed_pred, return_counts=True)"
   ]
  },
  {
   "cell_type": "markdown",
   "metadata": {},
   "source": [
    "Przygotowanie do under- i oversamplingu"
   ]
  },
  {
   "cell_type": "code",
   "execution_count": 80,
   "metadata": {},
   "outputs": [
    {
     "name": "stdout",
     "output_type": "stream",
     "text": [
      "Class_0:  60035 , Class_1:  879\n"
     ]
    },
    {
     "data": {
      "text/plain": [
       "<matplotlib.axes._subplots.AxesSubplot at 0x7fd2f8ea86d8>"
      ]
     },
     "execution_count": 80,
     "metadata": {},
     "output_type": "execute_result"
    },
    {
     "data": {
      "image/png": "[encoded data removed]",
      "text/plain": [
       "<Figure size 432x288 with 1 Axes>"
      ]
     },
     "metadata": {
      "needs_background": "light"
     },
     "output_type": "display_data"
    }
   ],
   "source": [
    "df_train = pd.concat([X_train, y_train], axis=1)\n",
    "\n",
    "count_class_0, count_class_1 = df_train['Disbursed'].value_counts()\n",
    "print('Class_0: ', count_class_0, ', Class_1: ', count_class_1)\n",
    "df_model_class_0=df_train[df_train['Disbursed']==0]\n",
    "df_model_class_1=df_train[df_train['Disbursed']==1]\n",
    "df_train['Disbursed'].value_counts().plot(kind='bar', title='Disbursed_count')\n"
   ]
  },
  {
   "cell_type": "markdown",
   "metadata": {},
   "source": [
    "Metoda udnersamplingu"
   ]
  },
  {
   "cell_type": "code",
   "execution_count": 81,
   "metadata": {},
   "outputs": [
    {
     "name": "stdout",
     "output_type": "stream",
     "text": [
      "1    879\n",
      "0    879\n",
      "Name: Disbursed, dtype: int64\n"
     ]
    },
    {
     "data": {
      "image/png": "[encoded data removed]",
      "text/plain": [
       "<Figure size 432x288 with 1 Axes>"
      ]
     },
     "metadata": {
      "needs_background": "light"
     },
     "output_type": "display_data"
    }
   ],
   "source": [
    "df_model_class_0_undsam=df_model_class_0.sample(count_class_1)\n",
    "df_model_undsam = pd.concat([df_model_class_0_undsam,df_model_class_1],axis=0)\n",
    "print(df_model_undsam['Disbursed'].value_counts())\n",
    "df_model_undsam['Disbursed'].value_counts().plot(kind='bar', title='Disbursed_count')\n",
    "plt.show()"
   ]
  },
  {
   "cell_type": "code",
   "execution_count": 82,
   "metadata": {},
   "outputs": [],
   "source": [
    "X_train_undsam = df_model_undsam.drop([\"Disbursed\"], axis = 1)\n",
    "y_train_undsam = df_model_undsam.Disbursed"
   ]
  },
  {
   "cell_type": "markdown",
   "metadata": {},
   "source": [
    "Metoda oversamplingu"
   ]
  },
  {
   "cell_type": "code",
   "execution_count": 83,
   "metadata": {},
   "outputs": [
    {
     "name": "stdout",
     "output_type": "stream",
     "text": [
      "1    60035\n",
      "0    60035\n",
      "Name: Disbursed, dtype: int64\n"
     ]
    },
    {
     "data": {
      "text/plain": [
       "<matplotlib.axes._subplots.AxesSubplot at 0x7fd2f8690f28>"
      ]
     },
     "execution_count": 83,
     "metadata": {},
     "output_type": "execute_result"
    },
    {
     "data": {
      "image/png": "[encoded data removed]",
      "text/plain": [
       "<Figure size 432x288 with 1 Axes>"
      ]
     },
     "metadata": {
      "needs_background": "light"
     },
     "output_type": "display_data"
    }
   ],
   "source": [
    "df_model_class_1_oversam=df_model_class_1.sample(count_class_0,replace=True) # ze zwracaniem, ponieważ nie mamy tyle danych\n",
    "df_model_oversam = pd.concat([df_model_class_0,df_model_class_1_oversam],axis=0)\n",
    "print(df_model_oversam['Disbursed'].value_counts())\n",
    "df_model_oversam['Disbursed'].value_counts().plot(kind='bar', title='Disbursed_count')\n"
   ]
  },
  {
   "cell_type": "code",
   "execution_count": 84,
   "metadata": {},
   "outputs": [],
   "source": [
    "X_train_oversam = df_model_oversam.drop([\"Disbursed\"], axis = 1)\n",
    "y_train_oversam = df_model_oversam.Disbursed"
   ]
  },
  {
   "cell_type": "markdown",
   "metadata": {},
   "source": [
    "Automatyzacja wyboru parametrow dla wybranych modeli"
   ]
  },
  {
   "cell_type": "code",
   "execution_count": 85,
   "metadata": {},
   "outputs": [],
   "source": [
    "names = [\"Regresja logistyczna\", \n",
    "         \"Drzewo decyzyjne\", \n",
    "         \"RandomForest\",\n",
    "         \"Naiwny Bayes\"\n",
    "        ]\n",
    "\n",
    "models = [\n",
    "    [(\"scaler\", MaxAbsScaler()), (\"model\", LogisticRegression())],\n",
    "    [(\"model\", DecisionTreeClassifier())],\n",
    "    [(\"model\", RandomForestClassifier(n_jobs=-1))],\n",
    "    [(\"model\", MultinomialNB())]\n",
    "]\n",
    "\n",
    "models_run = [\n",
    "    True,\n",
    "    True,\n",
    "    True,\n",
    "    True\n",
    "\n",
    "]\n",
    "\n",
    "\n",
    "parameters = [\n",
    "    {\"model__C\": [0.01, 1, 10, 100], \"model__penalty\": [\"l1\",\"l2\"]}, \n",
    "    {\"model__criterion\":[\"gini\",\"entropy\"]},\n",
    "    {\"model__n_estimators\": [10, 100, 100], \"model__max_depth\": [10, 50, 100], \"model__min_samples_split\": [2,6,10]},\n",
    "    {}\n",
    "]\n",
    "\n",
    "if len(names) != len(models) or len(models) != len(parameters) or len(models) != len(models_run):\n",
    "    raise ValueError(\"Listy wejściowe nie są równej długości!\", len(names), len(models), len(parameters) , len(models_run))"
   ]
  },
  {
   "cell_type": "code",
   "execution_count": 87,
   "metadata": {},
   "outputs": [],
   "source": [
    "def model_search(X_train, y_train, X_test, y_test, names, models, parameters, models_run, scoring_p):\n",
    "    best_names = []\n",
    "    best_models = []\n",
    "    best_params = []\n",
    "    acc_test_tbl = []\n",
    "    auc_test_tbl = []\n",
    "    f1_test_tbl = []\n",
    "    \n",
    "#     if len(names) != len(models) or len(models) != len(parameters):\n",
    "#         raise ValueError(\"Listy wejściowe nie są równej długości!\", len(names), len(models), len(parameters))\n",
    "    \n",
    "    for name, model, parameter, model_run in zip(names, models, parameters, models_run):\n",
    "        print(\"Fitting : \", name)\n",
    "        pipe = Pipeline(model)\n",
    "        gs = GridSearchCV(pipe, parameter, cv=5, scoring=scoring_p, n_jobs=-1)\n",
    "        gs.fit(X_train, y_train)\n",
    "    \n",
    "        for mean, std, params in zip(gs.cv_results_[\"mean_test_score\"], gs.cv_results_[\"std_test_score\"], gs.cv_results_[\"params\"]):\n",
    "            print(\"mean: \", mean, \", std: \", std, params)\n",
    "    \n",
    "        best_names.append(name)\n",
    "        best_models.append(gs.best_estimator_)\n",
    "        best_params.append(gs.best_params_)        \n",
    "    \n",
    "    print()\n",
    "    print(\"Wyniki :\")\n",
    "    for name, best_model, best_param, model_run in zip(best_names, best_models, best_params, models_run):\n",
    "        acc_test_score = accuracy_score(y_test, best_model.predict(X_test))\n",
    "        auc_test_score = roc_auc_score(y_test, best_model.predict(X_test))\n",
    "        f1_test_score = f1_score(y_test, best_model.predict(X_test))\n",
    "        print(name, \" (\", best_param, \"):\", acc_test_score, \" :\", auc_test_score, \" :\", f1_test_score)\n",
    "        acc_test_tbl.append(acc_test_score)\n",
    "        auc_test_tbl.append(auc_test_score)\n",
    "        f1_test_tbl.append(f1_test_score)\n",
    "    \n",
    "    models_dict = {'Method': best_names,\n",
    "         'Accuracy Score Test': acc_test_tbl,\n",
    "         'AUC Score test': auc_test_tbl,\n",
    "         'F1 Score test': f1_test_tbl           \n",
    "    }\n",
    "    models_df = pd.DataFrame(models_dict)\n",
    "    display(models_df)"
   ]
  },
  {
   "cell_type": "markdown",
   "metadata": {},
   "source": [
    "Modelowanie na oversampling"
   ]
  },
  {
   "cell_type": "code",
   "execution_count": 88,
   "metadata": {
    "scrolled": false
   },
   "outputs": [
    {
     "name": "stdout",
     "output_type": "stream",
     "text": [
      "Fitting :  Regresja logistyczna\n"
     ]
    },
    {
     "name": "stderr",
     "output_type": "stream",
     "text": [
      "/home/kodolamacz/anaconda3/lib/python3.7/site-packages/sklearn/linear_model/logistic.py:433: FutureWarning: Default solver will be changed to 'lbfgs' in 0.22. Specify a solver to silence this warning.\n",
      "  FutureWarning)\n"
     ]
    },
    {
     "name": "stdout",
     "output_type": "stream",
     "text": [
      "mean:  0.8169003008426646 , std:  0.00211489317992509 {'model__C': 0.01, 'model__penalty': 'l1'}\n",
      "mean:  0.8177920053561937 , std:  0.0020950107357037315 {'model__C': 0.01, 'model__penalty': 'l2'}\n",
      "mean:  0.8421681512801771 , std:  0.002240064359239467 {'model__C': 1, 'model__penalty': 'l1'}\n",
      "mean:  0.827112615639267 , std:  0.002301402690972297 {'model__C': 1, 'model__penalty': 'l2'}\n",
      "mean:  0.8430088202136938 , std:  0.002094827732876604 {'model__C': 10, 'model__penalty': 'l1'}\n",
      "mean:  0.8315536592993639 , std:  0.0026907599094106753 {'model__C': 10, 'model__penalty': 'l2'}\n",
      "mean:  0.8430834164926515 , std:  0.00211141504436271 {'model__C': 100, 'model__penalty': 'l1'}\n",
      "mean:  0.8397424099149736 , std:  0.0023885480036387723 {'model__C': 100, 'model__penalty': 'l2'}\n",
      "Fitting :  Drzewo decyzyjne\n",
      "mean:  0.9908331866237574 , std:  0.0007066231074419665 {'model__criterion': 'gini'}\n",
      "mean:  0.990715695958402 , std:  0.0004329291858190276 {'model__criterion': 'entropy'}\n",
      "Fitting :  RandomForest\n"
     ]
    },
    {
     "name": "stderr",
     "output_type": "stream",
     "text": [
      "/home/kodolamacz/anaconda3/lib/python3.7/site-packages/sklearn/externals/joblib/externals/loky/process_executor.py:706: UserWarning: A worker stopped while some jobs were given to the executor. This can be caused by a too short worker timeout or by a memory leak.\n",
      "  \"timeout or by a memory leak.\", UserWarning\n",
      "/home/kodolamacz/anaconda3/lib/python3.7/site-packages/sklearn/externals/joblib/externals/loky/process_executor.py:706: UserWarning: A worker stopped while some jobs were given to the executor. This can be caused by a too short worker timeout or by a memory leak.\n",
      "  \"timeout or by a memory leak.\", UserWarning\n",
      "/home/kodolamacz/anaconda3/lib/python3.7/site-packages/sklearn/externals/joblib/externals/loky/process_executor.py:706: UserWarning: A worker stopped while some jobs were given to the executor. This can be caused by a too short worker timeout or by a memory leak.\n",
      "  \"timeout or by a memory leak.\", UserWarning\n",
      "/home/kodolamacz/anaconda3/lib/python3.7/site-packages/sklearn/externals/joblib/externals/loky/process_executor.py:706: UserWarning: A worker stopped while some jobs were given to the executor. This can be caused by a too short worker timeout or by a memory leak.\n",
      "  \"timeout or by a memory leak.\", UserWarning\n",
      "/home/kodolamacz/anaconda3/lib/python3.7/site-packages/sklearn/externals/joblib/externals/loky/process_executor.py:706: UserWarning: A worker stopped while some jobs were given to the executor. This can be caused by a too short worker timeout or by a memory leak.\n",
      "  \"timeout or by a memory leak.\", UserWarning\n",
      "/home/kodolamacz/anaconda3/lib/python3.7/site-packages/sklearn/externals/joblib/externals/loky/process_executor.py:706: UserWarning: A worker stopped while some jobs were given to the executor. This can be caused by a too short worker timeout or by a memory leak.\n",
      "  \"timeout or by a memory leak.\", UserWarning\n",
      "/home/kodolamacz/anaconda3/lib/python3.7/site-packages/sklearn/externals/joblib/externals/loky/process_executor.py:706: UserWarning: A worker stopped while some jobs were given to the executor. This can be caused by a too short worker timeout or by a memory leak.\n",
      "  \"timeout or by a memory leak.\", UserWarning\n",
      "/home/kodolamacz/anaconda3/lib/python3.7/site-packages/sklearn/externals/joblib/externals/loky/process_executor.py:706: UserWarning: A worker stopped while some jobs were given to the executor. This can be caused by a too short worker timeout or by a memory leak.\n",
      "  \"timeout or by a memory leak.\", UserWarning\n",
      "/home/kodolamacz/anaconda3/lib/python3.7/site-packages/sklearn/externals/joblib/externals/loky/process_executor.py:706: UserWarning: A worker stopped while some jobs were given to the executor. This can be caused by a too short worker timeout or by a memory leak.\n",
      "  \"timeout or by a memory leak.\", UserWarning\n",
      "/home/kodolamacz/anaconda3/lib/python3.7/site-packages/sklearn/externals/joblib/externals/loky/process_executor.py:706: UserWarning: A worker stopped while some jobs were given to the executor. This can be caused by a too short worker timeout or by a memory leak.\n",
      "  \"timeout or by a memory leak.\", UserWarning\n",
      "/home/kodolamacz/anaconda3/lib/python3.7/site-packages/sklearn/externals/joblib/externals/loky/process_executor.py:706: UserWarning: A worker stopped while some jobs were given to the executor. This can be caused by a too short worker timeout or by a memory leak.\n",
      "  \"timeout or by a memory leak.\", UserWarning\n",
      "/home/kodolamacz/anaconda3/lib/python3.7/site-packages/sklearn/externals/joblib/externals/loky/process_executor.py:706: UserWarning: A worker stopped while some jobs were given to the executor. This can be caused by a too short worker timeout or by a memory leak.\n",
      "  \"timeout or by a memory leak.\", UserWarning\n",
      "/home/kodolamacz/anaconda3/lib/python3.7/site-packages/sklearn/externals/joblib/externals/loky/process_executor.py:706: UserWarning: A worker stopped while some jobs were given to the executor. This can be caused by a too short worker timeout or by a memory leak.\n",
      "  \"timeout or by a memory leak.\", UserWarning\n",
      "/home/kodolamacz/anaconda3/lib/python3.7/site-packages/sklearn/externals/joblib/externals/loky/process_executor.py:706: UserWarning: A worker stopped while some jobs were given to the executor. This can be caused by a too short worker timeout or by a memory leak.\n",
      "  \"timeout or by a memory leak.\", UserWarning\n",
      "/home/kodolamacz/anaconda3/lib/python3.7/site-packages/sklearn/externals/joblib/externals/loky/process_executor.py:706: UserWarning: A worker stopped while some jobs were given to the executor. This can be caused by a too short worker timeout or by a memory leak.\n",
      "  \"timeout or by a memory leak.\", UserWarning\n",
      "/home/kodolamacz/anaconda3/lib/python3.7/site-packages/sklearn/externals/joblib/externals/loky/process_executor.py:706: UserWarning: A worker stopped while some jobs were given to the executor. This can be caused by a too short worker timeout or by a memory leak.\n",
      "  \"timeout or by a memory leak.\", UserWarning\n",
      "/home/kodolamacz/anaconda3/lib/python3.7/site-packages/sklearn/externals/joblib/externals/loky/process_executor.py:706: UserWarning: A worker stopped while some jobs were given to the executor. This can be caused by a too short worker timeout or by a memory leak.\n",
      "  \"timeout or by a memory leak.\", UserWarning\n"
     ]
    },
    {
     "name": "stdout",
     "output_type": "stream",
     "text": [
      "mean:  0.9406481452766278 , std:  0.002125381356026536 {'model__max_depth': 10, 'model__min_samples_split': 2, 'model__n_estimators': 10}\n",
      "mean:  0.9488667395367194 , std:  0.0017216306333202288 {'model__max_depth': 10, 'model__min_samples_split': 2, 'model__n_estimators': 100}\n",
      "mean:  0.9492500893870042 , std:  0.0012683238455686277 {'model__max_depth': 10, 'model__min_samples_split': 2, 'model__n_estimators': 100}\n",
      "mean:  0.939454295452108 , std:  0.0018529541614181796 {'model__max_depth': 10, 'model__min_samples_split': 6, 'model__n_estimators': 10}\n",
      "mean:  0.949130024642284 , std:  0.0007536336679363151 {'model__max_depth': 10, 'model__min_samples_split': 6, 'model__n_estimators': 100}\n",
      "mean:  0.9491922402307047 , std:  0.0009070674753970525 {'model__max_depth': 10, 'model__min_samples_split': 6, 'model__n_estimators': 100}\n",
      "mean:  0.937818755527447 , std:  0.004367821512878983 {'model__max_depth': 10, 'model__min_samples_split': 10, 'model__n_estimators': 10}\n",
      "mean:  0.9500649911687437 , std:  0.0014520596745200435 {'model__max_depth': 10, 'model__min_samples_split': 10, 'model__n_estimators': 100}\n",
      "mean:  0.9486691638589073 , std:  0.0006725373380204339 {'model__max_depth': 10, 'model__min_samples_split': 10, 'model__n_estimators': 100}\n",
      "mean:  0.9999648888915741 , std:  3.223230629584559e-05 {'model__max_depth': 50, 'model__min_samples_split': 2, 'model__n_estimators': 10}\n",
      "mean:  0.9999575564763314 , std:  3.9584795498511945e-05 {'model__max_depth': 50, 'model__min_samples_split': 2, 'model__n_estimators': 100}\n",
      "mean:  0.9999565104748003 , std:  4.0522756456866984e-05 {'model__max_depth': 50, 'model__min_samples_split': 2, 'model__n_estimators': 100}\n",
      "mean:  0.9999550559222729 , std:  2.7032742025099922e-05 {'model__max_depth': 50, 'model__min_samples_split': 6, 'model__n_estimators': 10}\n",
      "mean:  0.9999663961603585 , std:  2.7464992003702744e-05 {'model__max_depth': 50, 'model__min_samples_split': 6, 'model__n_estimators': 100}\n",
      "mean:  0.9999569814529431 , std:  4.028650931025232e-05 {'model__max_depth': 50, 'model__min_samples_split': 6, 'model__n_estimators': 100}\n",
      "mean:  0.9999642750246277 , std:  3.286629117361607e-05 {'model__max_depth': 50, 'model__min_samples_split': 10, 'model__n_estimators': 10}\n",
      "mean:  0.9999558466661361 , std:  4.0800212567051406e-05 {'model__max_depth': 50, 'model__min_samples_split': 10, 'model__n_estimators': 100}\n",
      "mean:  0.9999668185840539 , std:  2.7126812103214243e-05 {'model__max_depth': 50, 'model__min_samples_split': 10, 'model__n_estimators': 100}\n",
      "mean:  0.9999496212923018 , std:  3.1305810018882555e-05 {'model__max_depth': 100, 'model__min_samples_split': 2, 'model__n_estimators': 10}\n",
      "mean:  0.9999663961603587 , std:  3.130520006013454e-05 {'model__max_depth': 100, 'model__min_samples_split': 2, 'model__n_estimators': 100}\n",
      "mean:  0.9999663822876593 , std:  3.1308861970154215e-05 {'model__max_depth': 100, 'model__min_samples_split': 2, 'model__n_estimators': 100}\n",
      "mean:  0.9999663046005428 , std:  3.133022578151728e-05 {'model__max_depth': 100, 'model__min_samples_split': 6, 'model__n_estimators': 10}\n",
      "mean:  0.9999663489931808 , std:  3.13179832247019e-05 {'model__max_depth': 100, 'model__min_samples_split': 6, 'model__n_estimators': 100}\n",
      "mean:  0.9999663545422606 , std:  3.128284863570607e-05 {'model__max_depth': 100, 'model__min_samples_split': 6, 'model__n_estimators': 100}\n",
      "mean:  0.9999663739640399 , std:  3.131117397184833e-05 {'model__max_depth': 100, 'model__min_samples_split': 10, 'model__n_estimators': 10}\n",
      "mean:  0.9999663933858189 , std:  3.1305810018918245e-05 {'model__max_depth': 100, 'model__min_samples_split': 10, 'model__n_estimators': 100}\n",
      "mean:  0.9999663739640399 , std:  3.13111739719254e-05 {'model__max_depth': 100, 'model__min_samples_split': 10, 'model__n_estimators': 100}\n",
      "Fitting :  Naiwny Bayes\n",
      "mean:  0.570963095990846 , std:  0.0013852528639947078 {}\n",
      "\n",
      "Wyniki :\n",
      "Regresja logistyczna  ( {'model__C': 100, 'model__penalty': 'l1'} ): 0.7564161495441661  : 0.7488836712163472  : 0.08411349560708627\n",
      "Drzewo decyzyjne  ( {'model__criterion': 'gini'} ): 0.9718455527464951  : 0.5246085890093783  : 0.06369426751592357\n",
      "RandomForest  ( {'model__max_depth': 50, 'model__min_samples_split': 10, 'model__n_estimators': 100} ): 0.9840266605378074  : 0.5033015061011628  : 0.014184397163120569\n",
      "Naiwny Bayes  ( {} ): 0.5885237110242856  : 0.5674327142672129  : 0.0384890798424633\n"
     ]
    },
    {
     "data": {
      "text/html": [
       "<div>\n",
       "<style scoped>\n",
       "    .dataframe tbody tr th:only-of-type {\n",
       "        vertical-align: middle;\n",
       "    }\n",
       "\n",
       "    .dataframe tbody tr th {\n",
       "        vertical-align: top;\n",
       "    }\n",
       "\n",
       "    .dataframe thead th {\n",
       "        text-align: right;\n",
       "    }\n",
       "</style>\n",
       "<table border=\"1\" class=\"dataframe\">\n",
       "  <thead>\n",
       "    <tr style=\"text-align: right;\">\n",
       "      <th></th>\n",
       "      <th>Method</th>\n",
       "      <th>Accuracy Score Test</th>\n",
       "      <th>AUC Score test</th>\n",
       "      <th>F1 Score test</th>\n",
       "    </tr>\n",
       "  </thead>\n",
       "  <tbody>\n",
       "    <tr>\n",
       "      <th>0</th>\n",
       "      <td>Regresja logistyczna</td>\n",
       "      <td>0.756416</td>\n",
       "      <td>0.748884</td>\n",
       "      <td>0.084113</td>\n",
       "    </tr>\n",
       "    <tr>\n",
       "      <th>1</th>\n",
       "      <td>Drzewo decyzyjne</td>\n",
       "      <td>0.971846</td>\n",
       "      <td>0.524609</td>\n",
       "      <td>0.063694</td>\n",
       "    </tr>\n",
       "    <tr>\n",
       "      <th>2</th>\n",
       "      <td>RandomForest</td>\n",
       "      <td>0.984027</td>\n",
       "      <td>0.503302</td>\n",
       "      <td>0.014184</td>\n",
       "    </tr>\n",
       "    <tr>\n",
       "      <th>3</th>\n",
       "      <td>Naiwny Bayes</td>\n",
       "      <td>0.588524</td>\n",
       "      <td>0.567433</td>\n",
       "      <td>0.038489</td>\n",
       "    </tr>\n",
       "  </tbody>\n",
       "</table>\n",
       "</div>"
      ],
      "text/plain": [
       "                 Method  Accuracy Score Test  AUC Score test  F1 Score test\n",
       "0  Regresja logistyczna             0.756416        0.748884       0.084113\n",
       "1      Drzewo decyzyjne             0.971846        0.524609       0.063694\n",
       "2          RandomForest             0.984027        0.503302       0.014184\n",
       "3          Naiwny Bayes             0.588524        0.567433       0.038489"
      ]
     },
     "metadata": {},
     "output_type": "display_data"
    }
   ],
   "source": [
    "model_search(X_train_oversam, y_train_oversam, X_test, y_test, names, models, parameters, models_run, \"roc_auc\")"
   ]
  },
  {
   "cell_type": "markdown",
   "metadata": {},
   "source": [
    "Modelowanie na undersampling"
   ]
  },
  {
   "cell_type": "code",
   "execution_count": 90,
   "metadata": {},
   "outputs": [
    {
     "name": "stdout",
     "output_type": "stream",
     "text": [
      "Fitting :  Regresja logistyczna\n"
     ]
    },
    {
     "name": "stderr",
     "output_type": "stream",
     "text": [
      "/home/kodolamacz/anaconda3/lib/python3.7/site-packages/sklearn/linear_model/logistic.py:433: FutureWarning: Default solver will be changed to 'lbfgs' in 0.22. Specify a solver to silence this warning.\n",
      "  FutureWarning)\n"
     ]
    },
    {
     "name": "stdout",
     "output_type": "stream",
     "text": [
      "mean:  0.754538787435545 , std:  0.02038812624124885 {'model__C': 0.01, 'model__penalty': 'l1'}\n",
      "mean:  0.7686173780713029 , std:  0.02320773978640771 {'model__C': 0.01, 'model__penalty': 'l2'}\n",
      "mean:  0.8281519362321411 , std:  0.011844074422854962 {'model__C': 1, 'model__penalty': 'l1'}\n",
      "mean:  0.8205344768996645 , std:  0.017736523816653575 {'model__C': 1, 'model__penalty': 'l2'}\n",
      "mean:  0.8287059158134243 , std:  0.013903514788599167 {'model__C': 10, 'model__penalty': 'l1'}\n",
      "mean:  0.8278531536722663 , std:  0.015492490081064094 {'model__C': 10, 'model__penalty': 'l2'}\n",
      "mean:  0.8272733551999764 , std:  0.013533721704486737 {'model__C': 100, 'model__penalty': 'l1'}\n",
      "mean:  0.8276243295953194 , std:  0.013819467905983214 {'model__C': 100, 'model__penalty': 'l2'}\n",
      "Fitting :  Drzewo decyzyjne\n",
      "mean:  0.6945392491467577 , std:  0.007704226353989875 {'model__criterion': 'gini'}\n",
      "mean:  0.6962457337883959 , std:  0.013076201355171747 {'model__criterion': 'entropy'}\n",
      "Fitting :  RandomForest\n",
      "mean:  0.8319676469719132 , std:  0.01592291712522917 {'model__max_depth': 10, 'model__min_samples_split': 2, 'model__n_estimators': 10}\n",
      "mean:  0.8486026033125009 , std:  0.009549134521424625 {'model__max_depth': 10, 'model__min_samples_split': 2, 'model__n_estimators': 100}\n",
      "mean:  0.8455614038975814 , std:  0.011911688034563453 {'model__max_depth': 10, 'model__min_samples_split': 2, 'model__n_estimators': 100}\n",
      "mean:  0.8283602049259046 , std:  0.01455473114145512 {'model__max_depth': 10, 'model__min_samples_split': 6, 'model__n_estimators': 10}\n",
      "mean:  0.845764815389389 , std:  0.008696021647767522 {'model__max_depth': 10, 'model__min_samples_split': 6, 'model__n_estimators': 100}\n",
      "mean:  0.8476375899413442 , std:  0.009115385058438884 {'model__max_depth': 10, 'model__min_samples_split': 6, 'model__n_estimators': 100}\n",
      "mean:  0.8364152741456495 , std:  0.014012531459772892 {'model__max_depth': 10, 'model__min_samples_split': 10, 'model__n_estimators': 10}\n",
      "mean:  0.8459492413161354 , std:  0.009339650750753489 {'model__max_depth': 10, 'model__min_samples_split': 10, 'model__n_estimators': 100}\n",
      "mean:  0.8466403675959989 , std:  0.008696553471957955 {'model__max_depth': 10, 'model__min_samples_split': 10, 'model__n_estimators': 100}\n",
      "mean:  0.8173554289851219 , std:  0.006303976954388961 {'model__max_depth': 50, 'model__min_samples_split': 2, 'model__n_estimators': 10}\n",
      "mean:  0.8454757102965296 , std:  0.011782782657149929 {'model__max_depth': 50, 'model__min_samples_split': 2, 'model__n_estimators': 100}\n",
      "mean:  0.8427778578077213 , std:  0.01142299644315736 {'model__max_depth': 50, 'model__min_samples_split': 2, 'model__n_estimators': 100}\n",
      "mean:  0.8288056269668899 , std:  0.01651342551552925 {'model__max_depth': 50, 'model__min_samples_split': 6, 'model__n_estimators': 10}\n",
      "mean:  0.849392535791853 , std:  0.008965495906151184 {'model__max_depth': 50, 'model__min_samples_split': 6, 'model__n_estimators': 100}\n",
      "mean:  0.8458891449847081 , std:  0.008598452972412574 {'model__max_depth': 50, 'model__min_samples_split': 6, 'model__n_estimators': 100}\n",
      "mean:  0.8301403048032742 , std:  0.013672626749039473 {'model__max_depth': 50, 'model__min_samples_split': 10, 'model__n_estimators': 10}\n",
      "mean:  0.8482101118449242 , std:  0.005419335622571313 {'model__max_depth': 50, 'model__min_samples_split': 10, 'model__n_estimators': 100}\n",
      "mean:  0.8508372855813129 , std:  0.009211398765332853 {'model__max_depth': 50, 'model__min_samples_split': 10, 'model__n_estimators': 100}\n",
      "mean:  0.8093401592718998 , std:  0.017554922375449554 {'model__max_depth': 100, 'model__min_samples_split': 2, 'model__n_estimators': 10}\n",
      "mean:  0.8453326352259799 , std:  0.012053672786578462 {'model__max_depth': 100, 'model__min_samples_split': 2, 'model__n_estimators': 100}\n",
      "mean:  0.8412142266152505 , std:  0.012486449828837077 {'model__max_depth': 100, 'model__min_samples_split': 2, 'model__n_estimators': 100}\n",
      "mean:  0.8249415658289379 , std:  0.014489180348307701 {'model__max_depth': 100, 'model__min_samples_split': 6, 'model__n_estimators': 10}\n",
      "mean:  0.846288876084098 , std:  0.010740079806546522 {'model__max_depth': 100, 'model__min_samples_split': 6, 'model__n_estimators': 100}\n",
      "mean:  0.8473630749228018 , std:  0.010243426889444893 {'model__max_depth': 100, 'model__min_samples_split': 6, 'model__n_estimators': 100}\n",
      "mean:  0.8318150052450394 , std:  0.016065362097917816 {'model__max_depth': 100, 'model__min_samples_split': 10, 'model__n_estimators': 10}\n",
      "mean:  0.849770030879246 , std:  0.010518125482577662 {'model__max_depth': 100, 'model__min_samples_split': 10, 'model__n_estimators': 100}\n",
      "mean:  0.8497870218518683 , std:  0.008502989790120392 {'model__max_depth': 100, 'model__min_samples_split': 10, 'model__n_estimators': 100}\n",
      "Fitting :  Naiwny Bayes\n",
      "mean:  0.5720636274987811 , std:  0.019687566769690516 {}\n",
      "\n",
      "Wyniki :\n",
      "Regresja logistyczna  ( {'model__C': 10, 'model__penalty': 'l1'} ): 0.7417451926760131  : 0.7489333231199796  : 0.08122104115562824\n",
      "Drzewo decyzyjne  ( {'model__criterion': 'entropy'} ): 0.6912970198421818  : 0.7120764090479785  : 0.06692138474007178\n",
      "RandomForest  ( {'model__max_depth': 50, 'model__min_samples_split': 10, 'model__n_estimators': 100} ): 0.7094920707883245  : 0.7600506113797819  : 0.07782101167315175\n",
      "Naiwny Bayes  ( {} ): 0.6275951888454762  : 0.5697735596802063  : 0.039707625444488345\n"
     ]
    },
    {
     "data": {
      "text/html": [
       "<div>\n",
       "<style scoped>\n",
       "    .dataframe tbody tr th:only-of-type {\n",
       "        vertical-align: middle;\n",
       "    }\n",
       "\n",
       "    .dataframe tbody tr th {\n",
       "        vertical-align: top;\n",
       "    }\n",
       "\n",
       "    .dataframe thead th {\n",
       "        text-align: right;\n",
       "    }\n",
       "</style>\n",
       "<table border=\"1\" class=\"dataframe\">\n",
       "  <thead>\n",
       "    <tr style=\"text-align: right;\">\n",
       "      <th></th>\n",
       "      <th>Method</th>\n",
       "      <th>Accuracy Score Test</th>\n",
       "      <th>AUC Score test</th>\n",
       "      <th>F1 Score test</th>\n",
       "    </tr>\n",
       "  </thead>\n",
       "  <tbody>\n",
       "    <tr>\n",
       "      <th>0</th>\n",
       "      <td>Regresja logistyczna</td>\n",
       "      <td>0.741745</td>\n",
       "      <td>0.748933</td>\n",
       "      <td>0.081221</td>\n",
       "    </tr>\n",
       "    <tr>\n",
       "      <th>1</th>\n",
       "      <td>Drzewo decyzyjne</td>\n",
       "      <td>0.691297</td>\n",
       "      <td>0.712076</td>\n",
       "      <td>0.066921</td>\n",
       "    </tr>\n",
       "    <tr>\n",
       "      <th>2</th>\n",
       "      <td>RandomForest</td>\n",
       "      <td>0.709492</td>\n",
       "      <td>0.760051</td>\n",
       "      <td>0.077821</td>\n",
       "    </tr>\n",
       "    <tr>\n",
       "      <th>3</th>\n",
       "      <td>Naiwny Bayes</td>\n",
       "      <td>0.627595</td>\n",
       "      <td>0.569774</td>\n",
       "      <td>0.039708</td>\n",
       "    </tr>\n",
       "  </tbody>\n",
       "</table>\n",
       "</div>"
      ],
      "text/plain": [
       "                 Method  Accuracy Score Test  AUC Score test  F1 Score test\n",
       "0  Regresja logistyczna             0.741745        0.748933       0.081221\n",
       "1      Drzewo decyzyjne             0.691297        0.712076       0.066921\n",
       "2          RandomForest             0.709492        0.760051       0.077821\n",
       "3          Naiwny Bayes             0.627595        0.569774       0.039708"
      ]
     },
     "metadata": {},
     "output_type": "display_data"
    }
   ],
   "source": [
    "model_search(X_train_undsam, y_train_undsam, X_test, y_test, names, models, parameters, models_run, \"roc_auc\")"
   ]
  },
  {
   "cell_type": "code",
   "execution_count": null,
   "metadata": {},
   "outputs": [],
   "source": []
  },
  {
   "cell_type": "code",
   "execution_count": null,
   "metadata": {},
   "outputs": [],
   "source": []
  },
  {
   "cell_type": "code",
   "execution_count": null,
   "metadata": {},
   "outputs": [],
   "source": []
  },
  {
   "cell_type": "code",
   "execution_count": null,
   "metadata": {},
   "outputs": [],
   "source": []
  },
  {
   "cell_type": "code",
   "execution_count": null,
   "metadata": {},
   "outputs": [],
   "source": []
  },
  {
   "cell_type": "code",
   "execution_count": null,
   "metadata": {},
   "outputs": [],
   "source": []
  },
  {
   "cell_type": "code",
   "execution_count": null,
   "metadata": {},
   "outputs": [],
   "source": []
  }
 ],
 "metadata": {
  "kernelspec": {
   "display_name": "Python 3",
   "language": "python",
   "name": "python3"
  },
  "language_info": {
   "codemirror_mode": {
    "name": "ipython",
    "version": 3
   },
   "file_extension": ".py",
   "mimetype": "text/x-python",
   "name": "python",
   "nbconvert_exporter": "python",
   "pygments_lexer": "ipython3",
   "version": "3.7.0"
  }
 },
 "nbformat": 4,
 "nbformat_minor": 2
}
